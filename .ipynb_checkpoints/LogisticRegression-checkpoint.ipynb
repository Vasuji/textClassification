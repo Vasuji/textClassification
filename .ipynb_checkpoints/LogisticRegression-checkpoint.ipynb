{
 "cells": [
  {
   "cell_type": "markdown",
   "metadata": {},
   "source": [
    "### Logistic Regression"
   ]
  },
  {
   "cell_type": "code",
   "execution_count": 120,
   "metadata": {},
   "outputs": [],
   "source": [
    "import pandas as pd\n",
    "import numpy as np\n",
    "import matplotlib.pyplot as plt\n",
    "% matplotlib inline\n",
    "import nltk\n",
    "import seaborn as sns\n",
    "from time import time\n",
    "import scikitplot\n",
    "import scikitplot.plotters as skplt"
   ]
  },
  {
   "cell_type": "markdown",
   "metadata": {},
   "source": [
    "#### Data"
   ]
  },
  {
   "cell_type": "code",
   "execution_count": 10,
   "metadata": {
    "collapsed": true
   },
   "outputs": [],
   "source": [
    "train = pd.read_csv('data.csv')"
   ]
  },
  {
   "cell_type": "markdown",
   "metadata": {},
   "source": [
    "-------"
   ]
  },
  {
   "cell_type": "markdown",
   "metadata": {},
   "source": [
    "### Feature Extraction"
   ]
  },
  {
   "cell_type": "code",
   "execution_count": 13,
   "metadata": {},
   "outputs": [],
   "source": [
    "from sklearn.feature_extraction.text import CountVectorizer"
   ]
  },
  {
   "cell_type": "code",
   "execution_count": 14,
   "metadata": {},
   "outputs": [],
   "source": [
    "count_vectorizer = CountVectorizer(analyzer=\"word\",\n",
    "                                   tokenizer=nltk.word_tokenize,\n",
    "                                   preprocessor= None,\n",
    "                                   stop_words='english',\n",
    "                                   max_features=None)  \n",
    "bag_of_words = count_vectorizer.fit_transform(train['Text'])"
   ]
  },
  {
   "cell_type": "code",
   "execution_count": 16,
   "metadata": {},
   "outputs": [
    {
     "data": {
      "text/plain": [
       "array([[0, 0, 0, ..., 0, 0, 0],\n",
       "       [0, 0, 0, ..., 0, 0, 0],\n",
       "       [0, 0, 0, ..., 0, 0, 0],\n",
       "       [0, 0, 0, ..., 0, 0, 0],\n",
       "       [0, 0, 0, ..., 0, 0, 0]], dtype=int64)"
      ]
     },
     "execution_count": 16,
     "metadata": {},
     "output_type": "execute_result"
    }
   ],
   "source": [
    "bow = bag_of_words.toarray()\n",
    "bow[0:5]"
   ]
  },
  {
   "cell_type": "code",
   "execution_count": 17,
   "metadata": {
    "collapsed": true
   },
   "outputs": [],
   "source": [
    "from sklearn.preprocessing import LabelEncoder"
   ]
  },
  {
   "cell_type": "code",
   "execution_count": 18,
   "metadata": {
    "collapsed": true
   },
   "outputs": [],
   "source": [
    "label = train['Label'].values.ravel()\n",
    "\n",
    "# One Hot encoding\n",
    "ohe_label = pd.get_dummies(label).values\n",
    "\n",
    "# Label Incoding\n",
    "lbe_label =  LabelEncoder().fit(label).transform(label)"
   ]
  },
  {
   "cell_type": "code",
   "execution_count": 19,
   "metadata": {
    "collapsed": true
   },
   "outputs": [],
   "source": [
    "from sklearn.model_selection import train_test_split\n",
    "from sklearn.utils import shuffle"
   ]
  },
  {
   "cell_type": "code",
   "execution_count": 38,
   "metadata": {
    "collapsed": true
   },
   "outputs": [],
   "source": [
    "def get_train_test_data(features,target):\n",
    "\n",
    "    #shuffle the data\n",
    "    features, target = shuffle(features, target)\n",
    "\n",
    "    # Split the 'features' and 'targets' data into training and testing sets\n",
    "    X_train, X_test, y_train, y_test = train_test_split(features,\n",
    "                                                    target, \n",
    "                                                    test_size = 0.3,\n",
    "                                                    random_state = 0)\n",
    "    # Show the results of the split\n",
    "    print (\"Training set has {} samples.\".format(X_train.shape[0]))\n",
    "    print (\"Testing set has {} samples.\".format(X_test.shape[0]))\n",
    "    return X_train, X_test, y_train, y_test"
   ]
  },
  {
   "cell_type": "code",
   "execution_count": 39,
   "metadata": {},
   "outputs": [
    {
     "name": "stdout",
     "output_type": "stream",
     "text": [
      "Training set has 2181 samples.\n",
      "Testing set has 936 samples.\n"
     ]
    }
   ],
   "source": [
    " X_train, X_test, y_train, y_test = get_train_test_data(bow,lbe_label)"
   ]
  },
  {
   "cell_type": "markdown",
   "metadata": {},
   "source": [
    "--------"
   ]
  },
  {
   "cell_type": "markdown",
   "metadata": {},
   "source": [
    "### Training"
   ]
  },
  {
   "cell_type": "code",
   "execution_count": 116,
   "metadata": {
    "collapsed": true
   },
   "outputs": [],
   "source": [
    "# metrics\n",
    "from sklearn.metrics import log_loss, accuracy_score, f1_score\n",
    "from sklearn.metrics import confusion_matrix, precision_score,recall_score"
   ]
  },
  {
   "cell_type": "code",
   "execution_count": 117,
   "metadata": {
    "collapsed": true
   },
   "outputs": [],
   "source": [
    "def train_predict(learner, X_train, y_train, X_test, y_test, disp_cmat=False): \n",
    "    '''\n",
    "    inputs:\n",
    "        learner: the learning algorithm to be trained and predicted on\n",
    "        sample_size: the size of samples (number) to be drawn from training set\n",
    "        X_train: features training set\n",
    "        y_train: income training set\n",
    "        X_test: features testing set\n",
    "        y_test: income testing set\n",
    "    '''\n",
    "    \n",
    "    results = {}\n",
    "    c_matrix = {}\n",
    "   \n",
    "    \n",
    "    #  Fit the learner to the training data using slicing with 'sample_size'\n",
    "    start = time()  # Get start time  -------->\n",
    "    learner.fit(X_train, y_train)\n",
    "    end = time()    # Get end time      <--------\n",
    "\n",
    "    \n",
    "    \n",
    "    #  Calculate the training time\n",
    "    results['train_time'] = end-start\n",
    "        \n",
    "        \n",
    "    #  Get the predictions on the test set,\n",
    "    #  then get predictions on the training samples\n",
    "    start = time()  # Get start time    ------->\n",
    "    predictions_test = learner.predict(X_test)\n",
    "    predict_prob_test = learner.predict_proba(X_test)\n",
    "    predictions_train = learner.predict(X_train)\n",
    "    predict_prob_train = learner.predict_proba(X_train)\n",
    "    end = time()    # Get end time        <-------\n",
    "    \n",
    "    \n",
    "    # Calculate the total prediction time\n",
    "    results['pred_time'] = end-start\n",
    "           \n",
    "        \n",
    "    # Compute accuracy on the training samples\n",
    "    results['acc_train'] = accuracy_score(y_train, predictions_train)\n",
    "        \n",
    "    # Compute accuracy on test set\n",
    "    results['acc_test'] = accuracy_score(y_test, predictions_test)\n",
    "    \n",
    "    # Log loss on the the  training samples\n",
    "    results['logloss_train'] = log_loss(y_train, predict_prob_train)\n",
    "        \n",
    "    # Log loss on the test set\n",
    "    results['logloss_test'] = log_loss(y_test, predict_prob_test)\n",
    "    \n",
    "    # Prepare Confusion Matix\n",
    "    c_matrix['c_mat'] = confusion_matrix(y_test, predictions_test)\n",
    "      \n",
    "        \n",
    "    #classification report\n",
    "    #report['classification_report'] = classification_report(y_test, predictions_test)\n",
    "    \n",
    "        \n",
    "    #f1 score\n",
    "    #results['f1_score'] = f1_score(y_test, predictions_test, average='macro')\n",
    "    \n",
    "    \n",
    "    #results['precission'] = precision_score(y_test, predictions_test, average=None)\n",
    "    #results['recall'] = recall_score(y_test, predictions_test, average=None)   \n",
    "    \n",
    "        \n",
    "    # Success\n",
    "    print (\"{} trained on {} train data.\".format(learner.__class__.__name__,X_train.shape[0]))\n",
    "        \n",
    "    if disp_cmat:\n",
    "        scikitplot.metrics.plot_confusion_matrix(y_test,predictions_test)\n",
    "        \n",
    "    # Return the results\n",
    "    return results, c_matrix "
   ]
  },
  {
   "cell_type": "markdown",
   "metadata": {},
   "source": [
    "### Model Look up"
   ]
  },
  {
   "cell_type": "code",
   "execution_count": 118,
   "metadata": {},
   "outputs": [],
   "source": [
    "from sklearn.linear_model import LogisticRegression"
   ]
  },
  {
   "cell_type": "code",
   "execution_count": 121,
   "metadata": {},
   "outputs": [
    {
     "name": "stdout",
     "output_type": "stream",
     "text": [
      "LogisticRegression trained on 2181 train data.\n"
     ]
    },
    {
     "data": {
      "text/plain": [
       "({'acc_test': 0.84188034188034189,\n",
       "  'acc_train': 0.92526364053186616,\n",
       "  'logloss_test': 0.4691947634457509,\n",
       "  'logloss_train': 0.23790520089750028,\n",
       "  'pred_time': 0.10257601737976074,\n",
       "  'train_time': 0.09270215034484863},\n",
       " {'c_mat': array([[ 35,   0,   0,   5,  17],\n",
       "         [  1,   8,   0,   2,   4],\n",
       "         [  0,   0,  22,  23,   6],\n",
       "         [  0,   0,  11, 512,  31],\n",
       "         [  9,   0,   1,  38, 211]])})"
      ]
     },
     "execution_count": 121,
     "metadata": {},
     "output_type": "execute_result"
    },
    {
     "data": {
      "image/png": "[encoded data removed]",
      "text/plain": [
       "<matplotlib.figure.Figure at 0x10f4cff28>"
      ]
     },
     "metadata": {},
     "output_type": "display_data"
    }
   ],
   "source": [
    "lr = LogisticRegression()\n",
    "train_predict( lr, X_train, y_train, X_test, y_test, disp_cmat=True)"
   ]
  },
  {
   "cell_type": "markdown",
   "metadata": {},
   "source": [
    "## Overfitting and Under Fitting"
   ]
  },
  {
   "cell_type": "code",
   "execution_count": 104,
   "metadata": {},
   "outputs": [
    {
     "name": "stdout",
     "output_type": "stream",
     "text": [
      "Training set has 2181 samples.\n",
      "Testing set has 936 samples.\n"
     ]
    }
   ],
   "source": [
    " X_train, X_test, y_train, y_test = get_train_test_data(bow,lbe_label)"
   ]
  },
  {
   "cell_type": "markdown",
   "metadata": {},
   "source": [
    "### Learning Curves"
   ]
  },
  {
   "cell_type": "code",
   "execution_count": 125,
   "metadata": {},
   "outputs": [],
   "source": [
    "import numpy as np\n",
    "import matplotlib.pyplot as plt\n",
    "from sklearn.naive_bayes import GaussianNB\n",
    "from sklearn.svm import SVC\n",
    "from sklearn.datasets import load_digits\n",
    "from sklearn.model_selection import learning_curve\n",
    "from sklearn.model_selection import ShuffleSplit\n",
    "\n",
    "\n",
    "def plot_learning_curve(estimator, title, X_train, y_train, ylim=None, cv=None,\n",
    "                        n_jobs=1, train_sizes=np.linspace(.1, 1.0, 5)):\n",
    "   \n",
    "    plt.figure()\n",
    "    plt.title(title)\n",
    "    if ylim is not None:\n",
    "        plt.ylim(*ylim)\n",
    "    plt.xlabel(\"Training examples\")\n",
    "    plt.ylabel(\"Score\")\n",
    "    \n",
    "    \n",
    "    train_sizes, train_scores, test_scores = learning_curve(\n",
    "                               estimator,\n",
    "                                X, y,\n",
    "                                cv=cv,\n",
    "                                n_jobs=n_jobs,\n",
    "                                train_sizes=train_sizes)\n",
    "    \n",
    "    \n",
    "    train_scores_mean = np.mean(train_scores, axis=1)\n",
    "    train_scores_std = np.std(train_scores, axis=1)\n",
    "    test_scores_mean = np.mean(test_scores, axis=1)\n",
    "    test_scores_std = np.std(test_scores, axis=1)\n",
    "    \n",
    "    \n",
    "    plt.grid()\n",
    "\n",
    "    plt.fill_between(train_sizes,\n",
    "                     train_scores_mean - train_scores_std,\n",
    "                     train_scores_mean + train_scores_std,\n",
    "                     alpha=0.1,\n",
    "                     color=\"r\")\n",
    "    \n",
    "    plt.fill_between(train_sizes,\n",
    "                     test_scores_mean - test_scores_std,\n",
    "                     test_scores_mean + test_scores_std,\n",
    "                     alpha=0.1,\n",
    "                     color=\"g\")\n",
    "    \n",
    "    plt.plot(train_sizes,\n",
    "             train_scores_mean,\n",
    "             'o-',\n",
    "             color=\"r\",\n",
    "             label=\"Training score\")\n",
    "    \n",
    "    plt.plot(train_sizes, \n",
    "             test_scores_mean,\n",
    "             'o-',\n",
    "             color=\"g\",\n",
    "             label=\"Cross-validation score\")\n",
    "    \n",
    "\n",
    "    plt.legend(loc=\"best\")\n",
    "    return plt\n"
   ]
  },
  {
   "cell_type": "code",
   "execution_count": 126,
   "metadata": {},
   "outputs": [
    {
     "data": {
      "image/png": "[encoded data removed]",
      "text/plain": [
       "<matplotlib.figure.Figure at 0x10139b240>"
      ]
     },
     "metadata": {},
     "output_type": "display_data"
    }
   ],
   "source": [
    "title = \"Learning Curves (Logistic_Regression)\"\n",
    "# Cross validation with 100 iterations to get smoother mean test and train\n",
    "# score curves, each time with 20% data randomly selected as a validation set.\n",
    "cv = ShuffleSplit(n_splits=100, test_size=0.2, random_state=0)\n",
    "estimator = LogisticRegression()\n",
    "plot_learning_curve(estimator, title, X_train, y_train, ylim=(0.7, 1.01), cv=cv, n_jobs=4)\n",
    "plt.show()"
   ]
  },
  {
   "cell_type": "markdown",
   "metadata": {},
   "source": [
    "### Validation Curves"
   ]
  },
  {
   "cell_type": "code",
   "execution_count": 74,
   "metadata": {
    "collapsed": true
   },
   "outputs": [],
   "source": [
    "from sklearn.model_selection import validation_curve"
   ]
  },
  {
   "cell_type": "code",
   "execution_count": 131,
   "metadata": {},
   "outputs": [],
   "source": [
    "def plot_validation_curve(estimator, param_range, param_name, title, X, y, ylim=None, cv=None,\n",
    "                        n_jobs=1, train_sizes=np.linspace(.1, 1.0, 5)):\n",
    "   \n",
    "    plt.figure()\n",
    "    plt.title(title)\n",
    "    if ylim is not None:\n",
    "        plt.ylim(*ylim)\n",
    "    plt.xlabel(\"Parameter C\")\n",
    "    plt.ylabel(\"Score\")\n",
    "    \n",
    "    \n",
    "    \n",
    "    train_scores, test_scores\\\n",
    "               = validation_curve(estimator,\n",
    "                                X, y, \n",
    "                                cv=cv,\n",
    "                                n_jobs=n_jobs,\n",
    "                                param_name = param_name,\n",
    "                                param_range = param_range)\n",
    "    \n",
    "    \n",
    "    train_scores_mean = np.mean(train_scores, axis=1)\n",
    "    train_scores_std = np.std(train_scores, axis=1)\n",
    "    test_scores_mean = np.mean(test_scores, axis=1)\n",
    "    test_scores_std = np.std(test_scores, axis=1)\n",
    "    \n",
    "    \n",
    "    plt.grid()\n",
    "\n",
    "    plt.fill_between(param_range,\n",
    "                     train_scores_mean - train_scores_std,\n",
    "                     train_scores_mean + train_scores_std,\n",
    "                     alpha=0.1,\n",
    "                     color=\"r\")\n",
    "    \n",
    "    plt.fill_between(param_range,\n",
    "                     test_scores_mean - test_scores_std,\n",
    "                     test_scores_mean + test_scores_std,\n",
    "                     alpha=0.1,\n",
    "                     color=\"g\")\n",
    "    \n",
    "    plt.plot(param_range,\n",
    "             train_scores_mean,\n",
    "             'o-',\n",
    "             color=\"r\",\n",
    "             label=\"Training score\")\n",
    "    \n",
    "    plt.plot(param_range, \n",
    "             test_scores_mean,\n",
    "             'o-',\n",
    "             color=\"g\",\n",
    "             label=\"Cross-validation score\")\n",
    "    \n",
    "\n",
    "    plt.legend(loc=\"best\")\n",
    "    return plt"
   ]
  },
  {
   "cell_type": "code",
   "execution_count": 132,
   "metadata": {},
   "outputs": [
    {
     "data": {
      "image/png": "[encoded data removed]",
      "text/plain": [
       "<matplotlib.figure.Figure at 0x12ea65198>"
      ]
     },
     "metadata": {},
     "output_type": "display_data"
    }
   ],
   "source": [
    "title = \"Validation Curves (Logistic Regression)\"\n",
    "param_name = 'C',\n",
    "param_range = [0.0001,0.001,0.01,0.1,0.5,1.0,10.0]\n",
    "\n",
    "# Cross validation with 100 iterations to get smoother mean test and train\n",
    "# score curves, each time with 20% data randomly selected as a validation set.\n",
    "cv = ShuffleSplit(n_splits=100, test_size=0.2, random_state=0)\n",
    "estimator = LogisticRegression()\n",
    "plot_validation_curve(estimator, title, X_train, y_train, ylim=(0.7, 1.01), cv=cv, n_jobs=4)\n",
    "plt.show()"
   ]
  },
  {
   "cell_type": "code",
   "execution_count": null,
   "metadata": {
    "collapsed": true
   },
   "outputs": [],
   "source": []
  }
 ],
 "metadata": {
  "kernelspec": {
   "display_name": "Python 3",
   "language": "python",
   "name": "python3"
  },
  "language_info": {
   "codemirror_mode": {
    "name": "ipython",
    "version": 3
   },
   "file_extension": ".py",
   "mimetype": "text/x-python",
   "name": "python",
   "nbconvert_exporter": "python",
   "pygments_lexer": "ipython3",
   "version": "3.5.2"
  },
  "widgets": {
   "state": {},
   "version": "1.1.2"
  }
 },
 "nbformat": 4,
 "nbformat_minor": 2
}
