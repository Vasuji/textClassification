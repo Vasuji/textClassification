{
 "cells": [
  {
   "cell_type": "markdown",
   "metadata": {},
   "source": [
    "# Bag of words"
   ]
  },
  {
   "cell_type": "markdown",
   "metadata": {},
   "source": [
    "Bag of Words method for feature engineering of text data first creates a dictionary from the corpus of text and creates a vector representing term frequency within that text sample."
   ]
  },
  {
   "cell_type": "markdown",
   "metadata": {},
   "source": [
    "--------"
   ]
  },
  {
   "cell_type": "code",
   "execution_count": 2,
   "metadata": {
    "collapsed": true
   },
   "outputs": [],
   "source": [
    "import warnings\n",
    "with warnings.catch_warnings():\n",
    "    warnings.filterwarnings(\"ignore\",category=DeprecationWarning)   "
   ]
  },
  {
   "cell_type": "code",
   "execution_count": 9,
   "metadata": {
    "collapsed": true
   },
   "outputs": [],
   "source": [
    "%matplotlib inline\n",
    "import pandas as pd\n",
    "import numpy as np\n",
    "from time import time\n",
    "import matplotlib.pyplot as plt\n",
    "import gensim\n",
    "import scikitplot\n",
    "import scikitplot.plotters as skplt\n",
    "import nltk\n",
    "import seaborn as sns"
   ]
  },
  {
   "cell_type": "markdown",
   "metadata": {},
   "source": [
    "### 1. Get the data"
   ]
  },
  {
   "cell_type": "code",
   "execution_count": 4,
   "metadata": {
    "collapsed": true
   },
   "outputs": [],
   "source": [
    "train = pd.read_csv('data.csv')"
   ]
  },
  {
   "cell_type": "code",
   "execution_count": 6,
   "metadata": {},
   "outputs": [
    {
     "data": {
      "text/html": [
       "<div>\n",
       "<table border=\"1\" class=\"dataframe\">\n",
       "  <thead>\n",
       "    <tr style=\"text-align: right;\">\n",
       "      <th></th>\n",
       "      <th>Unnamed: 0</th>\n",
       "      <th>Label</th>\n",
       "      <th>Text</th>\n",
       "    </tr>\n",
       "  </thead>\n",
       "  <tbody>\n",
       "    <tr>\n",
       "      <th>0</th>\n",
       "      <td>0</td>\n",
       "      <td>MISC</td>\n",
       "      <td>The Minimum Description Length principle for o...</td>\n",
       "    </tr>\n",
       "    <tr>\n",
       "      <th>1</th>\n",
       "      <td>1</td>\n",
       "      <td>MISC</td>\n",
       "      <td>If the underlying model class is discrete, the...</td>\n",
       "    </tr>\n",
       "    <tr>\n",
       "      <th>2</th>\n",
       "      <td>2</td>\n",
       "      <td>MISC</td>\n",
       "      <td>For MDL, in general one can only have loss bou...</td>\n",
       "    </tr>\n",
       "    <tr>\n",
       "      <th>3</th>\n",
       "      <td>3</td>\n",
       "      <td>AIMX</td>\n",
       "      <td>We show that this is even the case if the mode...</td>\n",
       "    </tr>\n",
       "    <tr>\n",
       "      <th>4</th>\n",
       "      <td>4</td>\n",
       "      <td>OWNX</td>\n",
       "      <td>We derive a new upper bound on the prediction ...</td>\n",
       "    </tr>\n",
       "  </tbody>\n",
       "</table>\n",
       "</div>"
      ],
      "text/plain": [
       "   Unnamed: 0 Label                                               Text\n",
       "0           0  MISC  The Minimum Description Length principle for o...\n",
       "1           1  MISC  If the underlying model class is discrete, the...\n",
       "2           2  MISC  For MDL, in general one can only have loss bou...\n",
       "3           3  AIMX  We show that this is even the case if the mode...\n",
       "4           4  OWNX  We derive a new upper bound on the prediction ..."
      ]
     },
     "execution_count": 6,
     "metadata": {},
     "output_type": "execute_result"
    }
   ],
   "source": [
    "train.head()"
   ]
  },
  {
   "cell_type": "markdown",
   "metadata": {},
   "source": [
    "### 2. Prepare Bag of Words"
   ]
  },
  {
   "cell_type": "markdown",
   "metadata": {},
   "source": [
    "[Scikit Learn's CountVectorizer](http://scikit-learn.org/stable/modules/generated/sklearn.feature_extraction.text.CountVectorizer.html) Convert a collection of text documents to a matrix of token counts.\n",
    "This implementation produces a sparse representation of the counts using scipy.sparse.csr_matrix.\n",
    "\n",
    "If an a-priori dictionary is not provided and an analyzer is not used, it does some kind of feature selection then the number of features will be equal to the vocabulary size found by analyzing the data.\n",
    "\n",
    "Here we are using ```nltk.word_tocknize``` for tokenizer, stope words for English."
   ]
  },
  {
   "cell_type": "code",
   "execution_count": 35,
   "metadata": {
    "collapsed": true
   },
   "outputs": [],
   "source": [
    "from sklearn.feature_extraction.text import CountVectorizer"
   ]
  },
  {
   "cell_type": "code",
   "execution_count": 12,
   "metadata": {
    "collapsed": true
   },
   "outputs": [],
   "source": [
    "count_vectorizer = CountVectorizer(analyzer=\"word\",\n",
    "                                   tokenizer=nltk.word_tokenize,\n",
    "                                   preprocessor= None,\n",
    "                                   stop_words='english',\n",
    "                                   max_features=None)  \n",
    "bag_of_words = count_vectorizer.fit_transform(train['Text'])"
   ]
  },
  {
   "cell_type": "markdown",
   "metadata": {},
   "source": [
    "##### Use Array  of Bag of Word vectors"
   ]
  },
  {
   "cell_type": "markdown",
   "metadata": {},
   "source": [
    "```count_vectorizer.fit_transform()``` provides us a sparce matrix. This can be converted to a numpy array by taking ```np.toarray()```"
   ]
  },
  {
   "cell_type": "code",
   "execution_count": 14,
   "metadata": {},
   "outputs": [
    {
     "data": {
      "text/plain": [
       "array([[0, 0, 0, ..., 0, 0, 0],\n",
       "       [0, 0, 0, ..., 0, 0, 0],\n",
       "       [0, 0, 0, ..., 0, 0, 0],\n",
       "       [0, 0, 0, ..., 0, 0, 0],\n",
       "       [0, 0, 0, ..., 0, 0, 0]], dtype=int64)"
      ]
     },
     "execution_count": 14,
     "metadata": {},
     "output_type": "execute_result"
    }
   ],
   "source": [
    "bow = bag_of_words.toarray()\n",
    "bow[0:5]"
   ]
  },
  {
   "cell_type": "markdown",
   "metadata": {},
   "source": [
    "#####  Latent Semantic Analysis : Use Truncated Bag of Words"
   ]
  },
  {
   "cell_type": "markdown",
   "metadata": {},
   "source": [
    "[Sklearn's TruncatedSVD](http://scikit-learn.org/stable/modules/generated/sklearn.decomposition.TruncatedSVD.html#sklearn.decomposition.TruncatedSVD) implements a variant of singular value decomposition (SVD) that only computes the k largest singular values, where k is a user-specified parameter.\n",
    "\n",
    "When truncated SVD is applied to term-document matrices (as returned by CountVectorizer or TfidfVectorizer), this transformation is known as latent semantic analysis (LSA), because it transforms such matrices to a “semantic” space of low dimensionality. \n",
    "\n",
    "###### Parameters being used\n",
    "* Desired dimensionality of output data:  ```n_components=200```\n",
    "* Number of iterations for randomized SVD solver : ```n_iter=25``` \n",
    "\n"
   ]
  },
  {
   "cell_type": "code",
   "execution_count": 34,
   "metadata": {
    "collapsed": true
   },
   "outputs": [],
   "source": [
    "from sklearn.decomposition import TruncatedSVD"
   ]
  },
  {
   "cell_type": "code",
   "execution_count": 7,
   "metadata": {
    "collapsed": true
   },
   "outputs": [],
   "source": [
    "svd = TruncatedSVD(n_components=200, n_iter=25, random_state=12)\n",
    "t_bow = svd.fit_transform(bag_of_words)"
   ]
  },
  {
   "cell_type": "markdown",
   "metadata": {},
   "source": [
    "#### Encoding of target"
   ]
  },
  {
   "cell_type": "markdown",
   "metadata": {},
   "source": [
    "Panda's ```get_dummies``` gets one hot encodding while we can use sklearn's ```LabelEncoder``` from ```sklearn.preprocessing``` for label encodding."
   ]
  },
  {
   "cell_type": "code",
   "execution_count": 44,
   "metadata": {
    "collapsed": true
   },
   "outputs": [],
   "source": [
    "from sklearn.preprocessing import LabelEncoder"
   ]
  },
  {
   "cell_type": "code",
   "execution_count": 45,
   "metadata": {
    "collapsed": true
   },
   "outputs": [],
   "source": [
    "label = train['Label'].values.ravel()\n",
    "\n",
    "# One Hot encoding\n",
    "ohe_label = pd.get_dummies(label).values\n",
    "\n",
    "# Label Incoding\n",
    "lbe_label =  preprocesLabelEncoder().fit(label).transform(label)"
   ]
  },
  {
   "cell_type": "markdown",
   "metadata": {},
   "source": [
    "### 3. Shuffle and Split Data"
   ]
  },
  {
   "cell_type": "code",
   "execution_count": 39,
   "metadata": {
    "collapsed": true
   },
   "outputs": [],
   "source": [
    "from sklearn.model_selection import train_test_split\n",
    "from sklearn.utils import shuffle"
   ]
  },
  {
   "cell_type": "code",
   "execution_count": 17,
   "metadata": {
    "collapsed": true
   },
   "outputs": [],
   "source": [
    "def get_train_test_data(features,target):\n",
    "\n",
    "    #shuffle the data\n",
    "    features, target = shuffle(features, target)\n",
    "\n",
    "    # Split the 'features' and 'targets' data into training and testing sets\n",
    "    X_train, X_test, y_train, y_test = train_test_split(features,\n",
    "                                                    target, \n",
    "                                                    test_size = 0.2,\n",
    "                                                    random_state = 0)\n",
    "    # Show the results of the split\n",
    "    print (\"Training set has {} samples.\".format(X_train.shape[0]))\n",
    "    print (\"Testing set has {} samples.\".format(X_test.shape[0]))\n",
    "    return X_train, X_test, y_train, y_test"
   ]
  },
  {
   "cell_type": "markdown",
   "metadata": {},
   "source": [
    "### 4. Initial Model Evaluation"
   ]
  },
  {
   "cell_type": "markdown",
   "metadata": {},
   "source": [
    "#### 4.1 Pipeline : \n",
    "This pipeline helps to train and prepare performance and accuracy reports. We will use ```log_loss``` as the loss function and ```accuracy_score``` as performance metric."
   ]
  },
  {
   "cell_type": "code",
   "execution_count": 38,
   "metadata": {
    "collapsed": true
   },
   "outputs": [],
   "source": [
    "# metrics\n",
    "from sklearn.metrics import log_loss, accuracy_score, f1_score\n",
    "from sklearn.metrics import confusion_matrix, precision_score,recall_score"
   ]
  },
  {
   "cell_type": "code",
   "execution_count": 18,
   "metadata": {
    "collapsed": true
   },
   "outputs": [],
   "source": [
    "\n",
    "def train_predict(learner, X_train, y_train, X_test, y_test, disp_cmat=False): \n",
    "    '''\n",
    "    inputs:\n",
    "        learner: the learning algorithm to be trained and predicted on\n",
    "        sample_size: the size of samples (number) to be drawn from training set\n",
    "        X_train: features training set\n",
    "        y_train: income training set\n",
    "        X_test: features testing set\n",
    "        y_test: income testing set\n",
    "    '''\n",
    "    \n",
    "    results = {}\n",
    "    c_matrix = {}\n",
    "   \n",
    "    \n",
    "    #  Fit the learner to the training data using slicing with 'sample_size'\n",
    "    start = time()  # Get start time  -------->\n",
    "    learner.fit(X_train, y_train)\n",
    "    end = time()    # Get end time      <--------\n",
    "\n",
    "    \n",
    "    \n",
    "    #  Calculate the training time\n",
    "    results['train_time'] = end-start\n",
    "        \n",
    "        \n",
    "    #  Get the predictions on the test set,\n",
    "    #  then get predictions on the training samples\n",
    "    start = time()  # Get start time    ------->\n",
    "    predictions_test = learner.predict(X_test)\n",
    "    predict_prob_test = learner.predict_proba(X_test)\n",
    "    predictions_train = learner.predict(X_train)\n",
    "    predict_prob_train = learner.predict_proba(X_train)\n",
    "    end = time()    # Get end time        <-------\n",
    "    \n",
    "    \n",
    "    # Calculate the total prediction time\n",
    "    results['pred_time'] = end-start\n",
    "           \n",
    "        \n",
    "    # Compute accuracy on the training samples\n",
    "    results['acc_train'] = accuracy_score(y_train, predictions_train)\n",
    "        \n",
    "    # Compute accuracy on test set\n",
    "    results['acc_test'] = accuracy_score(y_test, predictions_test)\n",
    "    \n",
    "    # Log loss on the the  training samples\n",
    "    results['logloss_train'] = log_loss(y_train, predict_prob_train)\n",
    "        \n",
    "    # Log loss on the test set\n",
    "    results['logloss_test'] = log_loss(y_test, predict_prob_test)\n",
    "    \n",
    "    # Prepare Confusion Matix\n",
    "    c_matrix['c_mat'] = confusion_matrix(y_test, predictions_test)\n",
    "      \n",
    "        \n",
    "    #classification report\n",
    "    #report['classification_report'] = classification_report(y_test, predictions_test)\n",
    "    \n",
    "        \n",
    "    #f1 score\n",
    "    #results['f1_score'] = f1_score(y_test, predictions_test, average='macro')\n",
    "    \n",
    "    \n",
    "    #results['precission'] = precision_score(y_test, predictions_test, average=None)\n",
    "    #results['recall'] = recall_score(y_test, predictions_test, average=None)   \n",
    "    \n",
    "        \n",
    "    # Success\n",
    "    print (\"{} trained on {} train data.\".format(learner.__class__.__name__,X_train.shape[0]))\n",
    "        \n",
    "    if disp_cmat:\n",
    "        scikitplot.metrics.plot_confusion_matrix(y_test,predictions_test)\n",
    "        \n",
    "    # Return the results\n",
    "    return results, c_matrix "
   ]
  },
  {
   "cell_type": "markdown",
   "metadata": {},
   "source": [
    "#### Get bag of words train and test data"
   ]
  },
  {
   "cell_type": "code",
   "execution_count": 19,
   "metadata": {},
   "outputs": [
    {
     "name": "stdout",
     "output_type": "stream",
     "text": [
      "Training set has 2493 samples.\n",
      "Testing set has 624 samples.\n"
     ]
    }
   ],
   "source": [
    " X_train, X_test, y_train, y_test = get_train_test_data(bow,lbe_label)"
   ]
  },
  {
   "cell_type": "markdown",
   "metadata": {},
   "source": [
    "#### Get truncated bag of words train and test data"
   ]
  },
  {
   "cell_type": "code",
   "execution_count": 31,
   "metadata": {
    "collapsed": true
   },
   "outputs": [],
   "source": [
    "#X_train, X_test, y_train, y_test = get_train_test_data(t_bow,lbe_label)"
   ]
  },
  {
   "cell_type": "markdown",
   "metadata": {},
   "source": [
    "#### A sample run:\n",
    "Lets look a sample run using [sklearn's GaussianNB()](http://scikit-learn.org/stable/modules/naive_bayes.html)"
   ]
  },
  {
   "cell_type": "code",
   "execution_count": 30,
   "metadata": {
    "collapsed": true
   },
   "outputs": [],
   "source": [
    "from sklearn.naive_bayes import GaussianNB"
   ]
  },
  {
   "cell_type": "code",
   "execution_count": 20,
   "metadata": {},
   "outputs": [
    {
     "name": "stdout",
     "output_type": "stream",
     "text": [
      "GaussianNB trained on 2493 train data.\n"
     ]
    },
    {
     "data": {
      "text/plain": [
       "({'acc_test': 0.82051282051282048,\n",
       "  'acc_train': 0.88166867228239065,\n",
       "  'logloss_test': 6.199267558060896,\n",
       "  'logloss_train': 4.0870192685514102,\n",
       "  'pred_time': 1.3271749019622803,\n",
       "  'train_time': 0.23665809631347656},\n",
       " {'c_mat': array([[ 43,   2,   0,   3,   7],\n",
       "         [  0,   7,   1,   1,   3],\n",
       "         [  0,   0,  30,   7,   2],\n",
       "         [  3,   2,  16, 280,  35],\n",
       "         [  7,   3,   7,  13, 152]])})"
      ]
     },
     "execution_count": 20,
     "metadata": {},
     "output_type": "execute_result"
    },
    {
     "data": {
      "image/png": "[encoded data removed]",
      "text/plain": [
       "<matplotlib.figure.Figure at 0x12ae66710>"
      ]
     },
     "metadata": {},
     "output_type": "display_data"
    }
   ],
   "source": [
    "gnb = GaussianNB()\n",
    "train_predict( gnb, X_train, y_train, X_test, y_test, disp_cmat=True)"
   ]
  },
  {
   "cell_type": "markdown",
   "metadata": {},
   "source": [
    "#### 4.2  Evaluation of multiple models:\n",
    "We want to run model evaluation to multiple models viz: \n",
    "1. [MultinomialNB](http://scikit-learn.org/stable/modules/generated/sklearn.naive_bayes.MultinomialNB.html)\n",
    "2. [LogisticRegression](http://scikit-learn.org/stable/modules/generated/sklearn.linear_model.LogisticRegression.html)\n",
    "3. [SVC](http://scikit-learn.org/stable/modules/generated/sklearn.svm.SVC.html)\n",
    "4. [KNeighborsClassifier](http://scikit-learn.org/stable/modules/generated/sklearn.neighbors.KNeighborsClassifier.html)\n",
    "\n",
    "###### Ensambles (Bagging & Boosting)\n",
    "\n",
    "5. [RandomForestClassifier](http://scikit-learn.org/stable/modules/generated/sklearn.ensemble.RandomForestClassifier.html)\n",
    "6. [GradientBoostingClassifier](http://scikit-learn.org/stable/modules/generated/sklearn.ensemble.GradientBoostingClassifier.html)\n",
    "7. [XGBClassifier](http://pandas-ml.readthedocs.io/en/latest/xgboost.html)\n"
   ]
  },
  {
   "cell_type": "code",
   "execution_count": 29,
   "metadata": {
    "collapsed": true
   },
   "outputs": [],
   "source": [
    "# Models\n",
    "from sklearn.naive_bayes import  MultinomialNB\n",
    "from sklearn.linear_model import LogisticRegression\n",
    "from sklearn.svm import SVC\n",
    "from sklearn.neighbors import KNeighborsClassifier\n",
    "from sklearn.ensemble import RandomForestClassifier\n",
    "from sklearn.ensemble import GradientBoostingClassifier\n",
    "from xgboost import XGBClassifier"
   ]
  },
  {
   "cell_type": "code",
   "execution_count": 21,
   "metadata": {},
   "outputs": [
    {
     "name": "stdout",
     "output_type": "stream",
     "text": [
      "MultinomialNB trained on 2493 train data.\n",
      "LogisticRegression trained on 2493 train data.\n",
      "SVC trained on 2493 train data.\n",
      "KNeighborsClassifier trained on 2493 train data.\n",
      "RandomForestClassifier trained on 2493 train data.\n",
      "GradientBoostingClassifier trained on 2493 train data.\n",
      "XGBClassifier trained on 2493 train data.\n"
     ]
    }
   ],
   "source": [
    "\n",
    "# Initialize the three models\n",
    "clf_A = MultinomialNB() \n",
    "\n",
    "\n",
    "clf_B = LogisticRegression(random_state=101)\n",
    "\n",
    "\n",
    "clf_C = SVC(kernel='rbf', probability=True)\n",
    "\n",
    "\n",
    "clf_D = KNeighborsClassifier(n_neighbors=5)\n",
    "\n",
    "\n",
    "clf_E = RandomForestClassifier(n_estimators=500,\n",
    "                               max_depth=5,\n",
    "                               verbose=0)\n",
    "\n",
    "clf_F = GradientBoostingClassifier()\n",
    "\n",
    "\n",
    "clf_G = XGBClassifier(max_depth=4,\n",
    "                      objective='multi:softprob',\n",
    "                      learning_rate=0.8)\n",
    "\n",
    "                                \n",
    "\n",
    "# Collect results on the learners\n",
    "results1 = {}\n",
    "c_matrix1 = {}\n",
    "\n",
    "\n",
    "for clf in [clf_A, clf_B, clf_C, clf_D, clf_E, clf_F, clf_G]:\n",
    "    clf_name = clf.__class__.__name__\n",
    "    results1[clf_name] = {}\n",
    "    c_matrix1[clf_name] = {}\n",
    "    \n",
    "   \n",
    "\n",
    "    results1[clf_name], c_matrix1[clf_name]  = \\\n",
    "                    train_predict(clf, X_train, y_train, X_test, y_test)\n",
    "   "
   ]
  },
  {
   "cell_type": "markdown",
   "metadata": {},
   "source": [
    "#### 4.3 Results"
   ]
  },
  {
   "cell_type": "code",
   "execution_count": 22,
   "metadata": {},
   "outputs": [
    {
     "data": {
      "text/html": [
       "<div>\n",
       "<table border=\"1\" class=\"dataframe\">\n",
       "  <thead>\n",
       "    <tr style=\"text-align: right;\">\n",
       "      <th></th>\n",
       "      <th>acc_test</th>\n",
       "      <th>acc_train</th>\n",
       "      <th>logloss_test</th>\n",
       "      <th>logloss_train</th>\n",
       "      <th>pred_time</th>\n",
       "      <th>train_time</th>\n",
       "    </tr>\n",
       "  </thead>\n",
       "  <tbody>\n",
       "    <tr>\n",
       "      <th>GradientBoostingClassifier</th>\n",
       "      <td>0.769231</td>\n",
       "      <td>0.852788</td>\n",
       "      <td>0.671023</td>\n",
       "      <td>0.510956</td>\n",
       "      <td>0.200357</td>\n",
       "      <td>189.415454</td>\n",
       "    </tr>\n",
       "    <tr>\n",
       "      <th>KNeighborsClassifier</th>\n",
       "      <td>0.697115</td>\n",
       "      <td>0.847974</td>\n",
       "      <td>2.038549</td>\n",
       "      <td>0.418536</td>\n",
       "      <td>75.407375</td>\n",
       "      <td>0.439799</td>\n",
       "    </tr>\n",
       "    <tr>\n",
       "      <th>LogisticRegression</th>\n",
       "      <td>0.870192</td>\n",
       "      <td>0.924589</td>\n",
       "      <td>0.452942</td>\n",
       "      <td>0.232893</td>\n",
       "      <td>0.106378</td>\n",
       "      <td>0.165614</td>\n",
       "    </tr>\n",
       "    <tr>\n",
       "      <th>MultinomialNB</th>\n",
       "      <td>0.812500</td>\n",
       "      <td>0.884477</td>\n",
       "      <td>0.873221</td>\n",
       "      <td>0.441808</td>\n",
       "      <td>0.105689</td>\n",
       "      <td>0.074627</td>\n",
       "    </tr>\n",
       "    <tr>\n",
       "      <th>RandomForestClassifier</th>\n",
       "      <td>0.538462</td>\n",
       "      <td>0.597272</td>\n",
       "      <td>1.069326</td>\n",
       "      <td>0.953556</td>\n",
       "      <td>0.634065</td>\n",
       "      <td>4.188965</td>\n",
       "    </tr>\n",
       "    <tr>\n",
       "      <th>SVC</th>\n",
       "      <td>0.538462</td>\n",
       "      <td>0.597272</td>\n",
       "      <td>0.600375</td>\n",
       "      <td>0.431434</td>\n",
       "      <td>43.468828</td>\n",
       "      <td>114.335859</td>\n",
       "    </tr>\n",
       "    <tr>\n",
       "      <th>XGBClassifier</th>\n",
       "      <td>0.852564</td>\n",
       "      <td>0.926996</td>\n",
       "      <td>0.483174</td>\n",
       "      <td>0.221323</td>\n",
       "      <td>0.384188</td>\n",
       "      <td>29.286636</td>\n",
       "    </tr>\n",
       "  </tbody>\n",
       "</table>\n",
       "</div>"
      ],
      "text/plain": [
       "                            acc_test  acc_train  logloss_test  logloss_train  \\\n",
       "GradientBoostingClassifier  0.769231   0.852788      0.671023       0.510956   \n",
       "KNeighborsClassifier        0.697115   0.847974      2.038549       0.418536   \n",
       "LogisticRegression          0.870192   0.924589      0.452942       0.232893   \n",
       "MultinomialNB               0.812500   0.884477      0.873221       0.441808   \n",
       "RandomForestClassifier      0.538462   0.597272      1.069326       0.953556   \n",
       "SVC                         0.538462   0.597272      0.600375       0.431434   \n",
       "XGBClassifier               0.852564   0.926996      0.483174       0.221323   \n",
       "\n",
       "                            pred_time  train_time  \n",
       "GradientBoostingClassifier   0.200357  189.415454  \n",
       "KNeighborsClassifier        75.407375    0.439799  \n",
       "LogisticRegression           0.106378    0.165614  \n",
       "MultinomialNB                0.105689    0.074627  \n",
       "RandomForestClassifier       0.634065    4.188965  \n",
       "SVC                         43.468828  114.335859  \n",
       "XGBClassifier                0.384188   29.286636  "
      ]
     },
     "execution_count": 22,
     "metadata": {},
     "output_type": "execute_result"
    }
   ],
   "source": [
    "result1_df = pd.DataFrame(results1).transpose()\n",
    "models = list(result1_df.index)\n",
    "result1_df "
   ]
  },
  {
   "cell_type": "markdown",
   "metadata": {},
   "source": [
    "#### 4.4 Comparision of Results :  Accuracy, Log Loss  and Time"
   ]
  },
  {
   "cell_type": "code",
   "execution_count": 23,
   "metadata": {},
   "outputs": [
    {
     "data": {
      "image/png": "[encoded data removed]",
      "text/plain": [
       "<matplotlib.figure.Figure at 0x150f7b390>"
      ]
     },
     "metadata": {},
     "output_type": "display_data"
    }
   ],
   "source": [
    "import seaborn as sns\n",
    "plt.figure(figsize = (18,18))\n",
    "plt.subplot(2,2,1)\n",
    "sns.barplot(x=\"acc_test\",y = models, data=result1_df);\n",
    "plt.title('Test Accuracy')\n",
    "plt.subplot(2,2,2)\n",
    "sns.barplot(x=\"acc_train\",y = models, data=result1_df);\n",
    "plt.title('Train Accuracy')\n",
    "plt.subplot(2,2,3)\n",
    "sns.barplot(x=\"logloss_test\",y = models, data=result1_df);\n",
    "plt.title('Log Loss')\n",
    "plt.subplot(2,2,4)\n",
    "sns.barplot(x=\"train_time\",y = models, data=result1_df);\n",
    "plt.title('Train Time')\n",
    "plt.show()"
   ]
  },
  {
   "cell_type": "markdown",
   "metadata": {},
   "source": [
    "#### 4.5 Confusion Matrices"
   ]
  },
  {
   "cell_type": "code",
   "execution_count": 24,
   "metadata": {
    "collapsed": true
   },
   "outputs": [],
   "source": [
    "lb = np.unique(train['Label'].values.ravel())\n",
    "cmatrix1 = pd.DataFrame(c_matrix1).transpose()"
   ]
  },
  {
   "cell_type": "code",
   "execution_count": 25,
   "metadata": {},
   "outputs": [
    {
     "data": {
      "image/png": "[encoded data removed]",
      "text/plain": [
       "<matplotlib.figure.Figure at 0x152fded30>"
      ]
     },
     "metadata": {},
     "output_type": "display_data"
    }
   ],
   "source": [
    "plt.figure(figsize = (16,15))\n",
    "for k in range(len(models)):\n",
    "    mat = cmatrix1['c_mat'][k]\n",
    "    matt = pd.DataFrame(mat, columns = lb, index = lb)\n",
    "    plt.subplot(4,2,k+1)\n",
    "    plt.title(models[k])\n",
    "    sns.heatmap(matt, annot=True, fmt=\"d\")\n",
    "plt.show()"
   ]
  },
  {
   "cell_type": "markdown",
   "metadata": {},
   "source": [
    "-----"
   ]
  },
  {
   "cell_type": "markdown",
   "metadata": {},
   "source": [
    "### 5.  Tuning"
   ]
  },
  {
   "cell_type": "markdown",
   "metadata": {},
   "source": [
    " We pick a best model from model evaluation pipeline and investigate further. For Parameter tuning we will use [sklearn's GridSearchCV](http://scikit-learn.org/stable/modules/generated/sklearn.model_selection.GridSearchCV.html) for search of best parameter "
   ]
  },
  {
   "cell_type": "code",
   "execution_count": null,
   "metadata": {
    "collapsed": true
   },
   "outputs": [],
   "source": [
    "# Import 'GridSearchCV', 'make_scorer', and any other necessary libraries\n",
    "from sklearn.model_selection import GridSearchCV\n",
    "from sklearn.metrics import make_scorer\n"
   ]
  },
  {
   "cell_type": "markdown",
   "metadata": {},
   "source": [
    "#### 5.1. Parameter Tuning For Best Classifier: XGBoost"
   ]
  },
  {
   "cell_type": "code",
   "execution_count": 41,
   "metadata": {},
   "outputs": [
    {
     "name": "stdout",
     "output_type": "stream",
     "text": [
      "Unoptimized model\n",
      "------\n",
      "Accuracy score on testing data: 0.6939\n",
      "\n",
      "Optimized Model\n",
      "------\n",
      "Final accuracy score on the testing data: 0.8606\n"
     ]
    }
   ],
   "source": [
    "\n",
    "\n",
    "# Initialize the classifier\n",
    "clf = XGBClassifier()\n",
    "\n",
    "\n",
    "# Create the parameters list you wish to tune\n",
    "tuned_parameters = [{'max_depth':[4,5,6],\n",
    "                     'learning_rate' : [0.01,0.05,0.8],\n",
    "                      'scale_pos_weight' : [0.5,0.7,1.0],\n",
    "                      'colsample_bytree': [0.5,0.7,1.0],\n",
    "                      'subsample': [1]\n",
    "                      }]\n",
    "                     \n",
    "\n",
    "\n",
    "# Make an logloss_score scoring object\n",
    "scorer = make_scorer(accuracy_score)\n",
    "\n",
    "\n",
    "# Perform grid search on the classifier using 'scorer' as the scoring method\n",
    "grid_obj = GridSearchCV(clf, tuned_parameters, cv =4, scoring=scorer)\n",
    "\n",
    "\n",
    "# Fit the grid search object to the training data and find the optimal parameters\n",
    "grid_fit = grid_obj.fit(X_train, y_train)\n",
    "\n",
    "\n",
    "# Get the estimator\n",
    "best_clf = grid_fit.best_estimator_\n",
    "\n",
    "\n",
    "# Make predictions using the unoptimized and model\n",
    "predictions_test = (clf.fit(X_train, y_train)).predict(X_test)\n",
    "\n",
    "\n",
    "\n",
    "best_predictions = best_clf.predict(X_test)\n",
    "\n",
    "\n",
    "\n",
    "# Report the before-and-afterscores\n",
    "print (\"Unoptimized model\\n------\")\n",
    "print (\"Accuracy score on testing data: {:.4f}\".format(accuracy_score(y_test, predictions_test)))\n",
    "\n",
    "\n",
    "\n",
    "print (\"\\nOptimized Model\\n------\")\n",
    "print (\"Final accuracy score on the testing data: {:.4f}\".format(accuracy_score(y_test, best_predictions)))\n"
   ]
  },
  {
   "cell_type": "code",
   "execution_count": 28,
   "metadata": {},
   "outputs": [
    {
     "data": {
      "text/plain": [
       "{'base_score': 0.5,\n",
       " 'colsample_bylevel': 1,\n",
       " 'colsample_bytree': 1.0,\n",
       " 'gamma': 0,\n",
       " 'learning_rate': 0.8,\n",
       " 'max_delta_step': 0,\n",
       " 'max_depth': 5,\n",
       " 'min_child_weight': 1,\n",
       " 'missing': None,\n",
       " 'n_estimators': 100,\n",
       " 'nthread': -1,\n",
       " 'objective': 'multi:softprob',\n",
       " 'reg_alpha': 0,\n",
       " 'reg_lambda': 1,\n",
       " 'scale_pos_weight': 1.0,\n",
       " 'seed': 0,\n",
       " 'silent': True,\n",
       " 'subsample': 1}"
      ]
     },
     "execution_count": 28,
     "metadata": {},
     "output_type": "execute_result"
    }
   ],
   "source": [
    "best_clf.get_params()"
   ]
  },
  {
   "cell_type": "markdown",
   "metadata": {},
   "source": [
    "-------------"
   ]
  },
  {
   "cell_type": "markdown",
   "metadata": {},
   "source": [
    "#### 5.2.   Parameter Tuning For Best Classifier: Logistic Regression"
   ]
  },
  {
   "cell_type": "code",
   "execution_count": 42,
   "metadata": {},
   "outputs": [
    {
     "name": "stdout",
     "output_type": "stream",
     "text": [
      "Unoptimized model\n",
      "------\n",
      "Accuracy score on testing data: 0.8702\n",
      "\n",
      "Optimized Model\n",
      "------\n",
      "Final accuracy score on the testing data: 0.8702\n"
     ]
    }
   ],
   "source": [
    "\n",
    "# Initialize the classifier\n",
    "clf = LogisticRegression()\n",
    "\n",
    "\n",
    "# Create the parameters list you wish to tune\n",
    "tuned_parameters = {'solver': ['liblinear','lbfgs'],\n",
    "              'C': [0.1,0.5,0.7,1.0],\n",
    "              'random_state': [101,101,101]}\n",
    "                     \n",
    "\n",
    "\n",
    "# Make an logloss_score scoring object\n",
    "scorer = make_scorer(accuracy_score)\n",
    "\n",
    "\n",
    "# Perform grid search on the classifier using 'scorer' as the scoring method\n",
    "grid_obj = GridSearchCV(clf, tuned_parameters, cv =4, scoring=scorer)\n",
    "\n",
    "\n",
    "# Fit the grid search object to the training data and find the optimal parameters\n",
    "grid_fit = grid_obj.fit(X_train, y_train)\n",
    "\n",
    "\n",
    "# Get the estimator\n",
    "best_clf = grid_fit.best_estimator_\n",
    "\n",
    "\n",
    "# Make predictions using the unoptimized and model\n",
    "predictions_test = (clf.fit(X_train, y_train)).predict(X_test)\n",
    "\n",
    "\n",
    "\n",
    "best_predictions = best_clf.predict(X_test)\n",
    "\n",
    "\n",
    "\n",
    "# Report the before-and-afterscores\n",
    "print (\"Unoptimized model\\n------\")\n",
    "print (\"Accuracy score on testing data: {:.4f}\".format(accuracy_score(y_test, predictions_test)))\n",
    "\n",
    "\n",
    "\n",
    "print (\"\\nOptimized Model\\n------\")\n",
    "print (\"Final accuracy score on the testing data: {:.4f}\".format(accuracy_score(y_test, best_predictions)))\n"
   ]
  },
  {
   "cell_type": "code",
   "execution_count": 43,
   "metadata": {},
   "outputs": [
    {
     "data": {
      "text/plain": [
       "{'C': 1.0,\n",
       " 'class_weight': None,\n",
       " 'dual': False,\n",
       " 'fit_intercept': True,\n",
       " 'intercept_scaling': 1,\n",
       " 'max_iter': 100,\n",
       " 'multi_class': 'ovr',\n",
       " 'n_jobs': 1,\n",
       " 'penalty': 'l2',\n",
       " 'random_state': 101,\n",
       " 'solver': 'liblinear',\n",
       " 'tol': 0.0001,\n",
       " 'verbose': 0,\n",
       " 'warm_start': False}"
      ]
     },
     "execution_count": 43,
     "metadata": {},
     "output_type": "execute_result"
    }
   ],
   "source": [
    "best_clf.get_params()"
   ]
  },
  {
   "cell_type": "markdown",
   "metadata": {
    "collapsed": true
   },
   "source": [
    "### 6. Using Neural Network"
   ]
  },
  {
   "cell_type": "markdown",
   "metadata": {},
   "source": [
    "This Neural network is motivation from Logistic Regression. Since It did better then other classifier. We can keep it as a final layer of neural network using ```softmax```."
   ]
  },
  {
   "cell_type": "markdown",
   "metadata": {
    "collapsed": true
   },
   "source": [
    "#### 6.1 Simple Neural Networks with  Bag of Words"
   ]
  },
  {
   "cell_type": "code",
   "execution_count": 13,
   "metadata": {
    "collapsed": true
   },
   "outputs": [],
   "source": [
    "from keras.models import Sequential\n",
    "from keras.utils import np_utils\n",
    "from keras.layers.core import Dense, Activation, Dropout, Flatten\n",
    "from keras.callbacks import ModelCheckpoint\n",
    "from keras.models import load_model\n",
    "from keras.optimizers import Adam\n",
    "import os"
   ]
  },
  {
   "cell_type": "code",
   "execution_count": 14,
   "metadata": {},
   "outputs": [
    {
     "name": "stdout",
     "output_type": "stream",
     "text": [
      "Training set has 2493 samples.\n",
      "Testing set has 624 samples.\n"
     ]
    }
   ],
   "source": [
    "X_train, X_test, y_train, y_test = get_train_test_data(bow,lbe_label)"
   ]
  },
  {
   "cell_type": "code",
   "execution_count": 15,
   "metadata": {
    "collapsed": true
   },
   "outputs": [],
   "source": [
    "y_train = np_utils.to_categorical(y_train)\n",
    "num_classes = y_train.shape[1]\n",
    "input_dim = X_train.shape[1]"
   ]
  },
  {
   "cell_type": "code",
   "execution_count": 18,
   "metadata": {},
   "outputs": [
    {
     "name": "stdout",
     "output_type": "stream",
     "text": [
      "_________________________________________________________________\n",
      "Layer (type)                 Output Shape              Param #   \n",
      "=================================================================\n",
      "dense_1 (Dense)              (None, 500)               2019000   \n",
      "_________________________________________________________________\n",
      "dropout_1 (Dropout)          (None, 500)               0         \n",
      "_________________________________________________________________\n",
      "dense_2 (Dense)              (None, 300)               150300    \n",
      "_________________________________________________________________\n",
      "dropout_2 (Dropout)          (None, 300)               0         \n",
      "_________________________________________________________________\n",
      "dense_3 (Dense)              (None, 100)               30100     \n",
      "_________________________________________________________________\n",
      "dropout_3 (Dropout)          (None, 100)               0         \n",
      "_________________________________________________________________\n",
      "dense_4 (Dense)              (None, 50)                5050      \n",
      "_________________________________________________________________\n",
      "dropout_4 (Dropout)          (None, 50)                0         \n",
      "_________________________________________________________________\n",
      "dense_5 (Dense)              (None, 5)                 255       \n",
      "=================================================================\n",
      "Total params: 2,204,705\n",
      "Trainable params: 2,204,705\n",
      "Non-trainable params: 0\n",
      "_________________________________________________________________\n"
     ]
    }
   ],
   "source": [
    "# Model saving callback\n",
    "ckpt_callback = ModelCheckpoint('bof_nn', \n",
    "                                 monitor='val_loss', \n",
    "                                 verbose=1, \n",
    "                                 save_best_only=True, \n",
    "                                 mode='auto')\n",
    "\n",
    "\n",
    "model = Sequential()\n",
    "model.add(Dense(500, input_dim=input_dim, activation='relu'))\n",
    "model.add(Dropout(0.20))\n",
    "model.add(Dense(300, input_dim=input_dim, activation='relu'))\n",
    "model.add(Dropout(0.20))\n",
    "model.add(Dense(100, input_dim=input_dim, activation='relu'))\n",
    "model.add(Dropout(0.20))\n",
    "model.add(Dense(50, activation='relu'))\n",
    "model.add(Dropout(0.20))\n",
    "model.add(Dense(num_classes, activation='softmax'))\n",
    "model.summary()"
   ]
  },
  {
   "cell_type": "code",
   "execution_count": 19,
   "metadata": {
    "collapsed": true
   },
   "outputs": [],
   "source": [
    "# we'll use categorical xent for the loss, and RMSprop as the optimizer\n",
    "model.compile(loss='categorical_crossentropy',\\\n",
    "              optimizer='rmsprop',\\\n",
    "              metrics=['accuracy'])"
   ]
  },
  {
   "cell_type": "code",
   "execution_count": 28,
   "metadata": {},
   "outputs": [
    {
     "name": "stdout",
     "output_type": "stream",
     "text": [
      "Training...\n",
      "Train on 1745 samples, validate on 748 samples\n",
      "Epoch 1/40\n"
     ]
    },
    {
     "name": "stderr",
     "output_type": "stream",
     "text": [
      "/Users/dibakarsigdel/anaconda/envs/carnd-term1/lib/python3.5/site-packages/keras/models.py:834: UserWarning: The `nb_epoch` argument in `fit` has been renamed `epochs`.\n",
      "  warnings.warn('The `nb_epoch` argument in `fit` '\n"
     ]
    },
    {
     "name": "stdout",
     "output_type": "stream",
     "text": [
      "1s - loss: 0.1078 - acc: 0.9370 - val_loss: 1.2288 - val_acc: 0.8663\n",
      "Epoch 2/40\n",
      "1s - loss: 0.0971 - acc: 0.9427 - val_loss: 1.2928 - val_acc: 0.8623\n",
      "Epoch 3/40\n",
      "1s - loss: 0.1122 - acc: 0.9467 - val_loss: 1.2874 - val_acc: 0.8516\n",
      "Epoch 4/40\n",
      "1s - loss: 0.0976 - acc: 0.9444 - val_loss: 1.3842 - val_acc: 0.8623\n",
      "Epoch 5/40\n",
      "1s - loss: 0.1067 - acc: 0.9393 - val_loss: 1.4229 - val_acc: 0.8596\n",
      "Epoch 6/40\n",
      "1s - loss: 0.0944 - acc: 0.9398 - val_loss: 1.3437 - val_acc: 0.8623\n",
      "Epoch 7/40\n",
      "1s - loss: 0.0948 - acc: 0.9433 - val_loss: 1.3887 - val_acc: 0.8570\n",
      "Epoch 8/40\n",
      "1s - loss: 0.0976 - acc: 0.9450 - val_loss: 1.2284 - val_acc: 0.8663\n",
      "Epoch 9/40\n",
      "1s - loss: 0.0983 - acc: 0.9450 - val_loss: 1.4019 - val_acc: 0.8556\n",
      "Epoch 10/40\n",
      "1s - loss: 0.0944 - acc: 0.9433 - val_loss: 1.4373 - val_acc: 0.8516\n",
      "Epoch 11/40\n",
      "1s - loss: 0.1078 - acc: 0.9387 - val_loss: 1.3570 - val_acc: 0.8489\n",
      "Epoch 12/40\n",
      "1s - loss: 0.1040 - acc: 0.9398 - val_loss: 1.3999 - val_acc: 0.8610\n",
      "Epoch 13/40\n",
      "1s - loss: 0.0958 - acc: 0.9415 - val_loss: 1.4380 - val_acc: 0.8636\n",
      "Epoch 14/40\n",
      "1s - loss: 0.0913 - acc: 0.9496 - val_loss: 1.4225 - val_acc: 0.8650\n",
      "Epoch 15/40\n",
      "1s - loss: 0.0901 - acc: 0.9444 - val_loss: 1.3888 - val_acc: 0.8650\n",
      "Epoch 16/40\n",
      "1s - loss: 0.1076 - acc: 0.9387 - val_loss: 1.3813 - val_acc: 0.8623\n",
      "Epoch 17/40\n",
      "1s - loss: 0.0908 - acc: 0.9398 - val_loss: 1.4118 - val_acc: 0.8596\n",
      "Epoch 18/40\n",
      "1s - loss: 0.0979 - acc: 0.9467 - val_loss: 1.4412 - val_acc: 0.8570\n",
      "Epoch 19/40\n",
      "1s - loss: 0.1007 - acc: 0.9393 - val_loss: 1.4468 - val_acc: 0.8610\n",
      "Epoch 20/40\n",
      "1s - loss: 0.1097 - acc: 0.9370 - val_loss: 1.3990 - val_acc: 0.8543\n",
      "Epoch 21/40\n",
      "1s - loss: 0.0887 - acc: 0.9427 - val_loss: 1.4476 - val_acc: 0.8610\n",
      "Epoch 22/40\n",
      "1s - loss: 0.1007 - acc: 0.9404 - val_loss: 1.4820 - val_acc: 0.8503\n",
      "Epoch 23/40\n",
      "1s - loss: 0.1190 - acc: 0.9415 - val_loss: 1.4241 - val_acc: 0.8529\n",
      "Epoch 24/40\n",
      "1s - loss: 0.1103 - acc: 0.9381 - val_loss: 1.2955 - val_acc: 0.8570\n",
      "Epoch 25/40\n",
      "1s - loss: 0.0872 - acc: 0.9433 - val_loss: 1.5330 - val_acc: 0.8543\n",
      "Epoch 26/40\n",
      "1s - loss: 0.0989 - acc: 0.9438 - val_loss: 1.4667 - val_acc: 0.8596\n",
      "Epoch 27/40\n",
      "1s - loss: 0.0957 - acc: 0.9450 - val_loss: 1.4353 - val_acc: 0.8476\n",
      "Epoch 28/40\n",
      "1s - loss: 0.0907 - acc: 0.9473 - val_loss: 1.3975 - val_acc: 0.8650\n",
      "Epoch 29/40\n",
      "1s - loss: 0.0924 - acc: 0.9433 - val_loss: 1.4188 - val_acc: 0.8623\n",
      "Epoch 30/40\n",
      "1s - loss: 0.1024 - acc: 0.9456 - val_loss: 1.4764 - val_acc: 0.8556\n",
      "Epoch 31/40\n",
      "1s - loss: 0.1015 - acc: 0.9450 - val_loss: 1.5066 - val_acc: 0.8543\n",
      "Epoch 32/40\n",
      "1s - loss: 0.0960 - acc: 0.9398 - val_loss: 1.4604 - val_acc: 0.8570\n",
      "Epoch 33/40\n",
      "1s - loss: 0.0941 - acc: 0.9473 - val_loss: 1.4576 - val_acc: 0.8663\n",
      "Epoch 34/40\n",
      "1s - loss: 0.1059 - acc: 0.9364 - val_loss: 1.4898 - val_acc: 0.8610\n",
      "Epoch 35/40\n",
      "1s - loss: 0.0938 - acc: 0.9450 - val_loss: 1.4161 - val_acc: 0.8610\n",
      "Epoch 36/40\n",
      "1s - loss: 0.0990 - acc: 0.9473 - val_loss: 1.4810 - val_acc: 0.8463\n",
      "Epoch 37/40\n",
      "1s - loss: 0.1114 - acc: 0.9393 - val_loss: 1.4383 - val_acc: 0.8717\n",
      "Epoch 38/40\n",
      "1s - loss: 0.0913 - acc: 0.9438 - val_loss: 1.4959 - val_acc: 0.8610\n",
      "Epoch 39/40\n",
      "1s - loss: 0.0940 - acc: 0.9507 - val_loss: 1.4407 - val_acc: 0.8636\n",
      "Epoch 40/40\n",
      "1s - loss: 0.1032 - acc: 0.9450 - val_loss: 1.3854 - val_acc: 0.8583\n"
     ]
    }
   ],
   "source": [
    "print(\"Training...\")\n",
    "history = model.fit(X_train,\\\n",
    "          y_train,\\\n",
    "          nb_epoch=40,\\\n",
    "          batch_size=64,\\\n",
    "          validation_split=0.3,\\\n",
    "          verbose=2)"
   ]
  },
  {
   "cell_type": "code",
   "execution_count": 29,
   "metadata": {},
   "outputs": [
    {
     "data": {
      "image/png": "[encoded data removed]",
      "text/plain": [
       "<matplotlib.figure.Figure at 0x1317d9a90>"
      ]
     },
     "metadata": {},
     "output_type": "display_data"
    }
   ],
   "source": [
    "plt.figure(figsize=(12,12))\n",
    "plt.plot(history.history['loss'])\n",
    "plt.plot(history.history['val_loss'])\n",
    "plt.title('model mean squared error loss')\n",
    "plt.ylabel('mean squared error loss')\n",
    "plt.xlabel('epoch')\n",
    "plt.legend(['training set', 'validation set'], loc='upper right')\n",
    "plt.show()\n"
   ]
  },
  {
   "cell_type": "markdown",
   "metadata": {},
   "source": [
    "#### Confusion Matrix"
   ]
  },
  {
   "cell_type": "code",
   "execution_count": 31,
   "metadata": {},
   "outputs": [
    {
     "name": "stdout",
     "output_type": "stream",
     "text": [
      "Log loss: 3.7944724104760645\n",
      "Accuracy: 0.8044871794871795\n"
     ]
    },
    {
     "name": "stderr",
     "output_type": "stream",
     "text": [
      "/Users/dibakarsigdel/anaconda/envs/carnd-term1/lib/python3.5/site-packages/sklearn/utils/deprecation.py:70: DeprecationWarning: Function plot_confusion_matrix is deprecated; This will be removed in v0.4.0. Please use scikitplot.metrics.plot_confusion_matrix instead.\n",
      "  warnings.warn(msg, category=DeprecationWarning)\n"
     ]
    },
    {
     "data": {
      "text/plain": [
       "<matplotlib.axes._subplots.AxesSubplot at 0x132157048>"
      ]
     },
     "execution_count": 31,
     "metadata": {},
     "output_type": "execute_result"
    },
    {
     "data": {
      "image/png": "[encoded data removed]",
      "text/plain": [
       "<matplotlib.figure.Figure at 0x1315c00b8>"
      ]
     },
     "metadata": {},
     "output_type": "display_data"
    }
   ],
   "source": [
    "probas = model.predict(X_test)\n",
    "pred_indices = np.argmax(probas, axis=1)\n",
    "classes = np.unique(y_test)\n",
    "preds = classes[pred_indices]\n",
    "print('Log loss: {}'.format(log_loss(y_test, probas)))\n",
    "print('Accuracy: {}'.format(accuracy_score(y_test, preds)))\n",
    "skplt.plot_confusion_matrix(y_test, preds)"
   ]
  }
 ],
 "metadata": {
  "kernelspec": {
   "display_name": "Python 3",
   "language": "python",
   "name": "python3"
  },
  "language_info": {
   "codemirror_mode": {
    "name": "ipython",
    "version": 3
   },
   "file_extension": ".py",
   "mimetype": "text/x-python",
   "name": "python",
   "nbconvert_exporter": "python",
   "pygments_lexer": "ipython3",
   "version": "3.5.2"
  },
  "widgets": {
   "state": {},
   "version": "1.1.2"
  }
 },
 "nbformat": 4,
 "nbformat_minor": 2
}
