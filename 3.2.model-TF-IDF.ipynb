{
 "cells": [
  {
   "cell_type": "markdown",
   "metadata": {},
   "source": [
    "# TF-IDF"
   ]
  },
  {
   "cell_type": "markdown",
   "metadata": {},
   "source": [
    "TF-IDF, term frequency–inverse document frequency, is a numerical statistic that is intended to reflect how important a word is to a document in a collection or corpus. We will investigate different models using TF-IDF as the feature engineering method.\n",
    "\n",
    "Term Frequency reflects the number of times a specific term appear in the text. and Inverse document frequency is related to the number of times the term appears in different documents."
   ]
  },
  {
   "cell_type": "markdown",
   "metadata": {},
   "source": [
    "------"
   ]
  },
  {
   "cell_type": "code",
   "execution_count": 1,
   "metadata": {
    "collapsed": true
   },
   "outputs": [],
   "source": [
    "import warnings\n",
    "with warnings.catch_warnings():\n",
    "    warnings.filterwarnings(\"ignore\",category=DeprecationWarning)"
   ]
  },
  {
   "cell_type": "code",
   "execution_count": 2,
   "metadata": {},
   "outputs": [
    {
     "name": "stderr",
     "output_type": "stream",
     "text": [
      "Using TensorFlow backend.\n"
     ]
    }
   ],
   "source": [
    "%matplotlib inline\n",
    "import pandas as pd\n",
    "import numpy as np\n",
    "from time import time\n",
    "import matplotlib.pyplot as plt\n",
    "import gensim\n",
    "import scikitplot\n",
    "import scikitplot.plotters as skplt\n",
    "import sklearn.preprocessing\n",
    "import nltk\n",
    "import os,re"
   ]
  },
  {
   "cell_type": "markdown",
   "metadata": {},
   "source": [
    "### 1. Get the data"
   ]
  },
  {
   "cell_type": "code",
   "execution_count": 3,
   "metadata": {
    "collapsed": true
   },
   "outputs": [],
   "source": [
    "train = pd.read_csv('data.csv')"
   ]
  },
  {
   "cell_type": "code",
   "execution_count": 4,
   "metadata": {},
   "outputs": [
    {
     "data": {
      "text/html": [
       "<div>\n",
       "<table border=\"1\" class=\"dataframe\">\n",
       "  <thead>\n",
       "    <tr style=\"text-align: right;\">\n",
       "      <th></th>\n",
       "      <th>Unnamed: 0</th>\n",
       "      <th>Label</th>\n",
       "      <th>Text</th>\n",
       "    </tr>\n",
       "  </thead>\n",
       "  <tbody>\n",
       "    <tr>\n",
       "      <th>0</th>\n",
       "      <td>0</td>\n",
       "      <td>MISC</td>\n",
       "      <td>The Minimum Description Length principle for o...</td>\n",
       "    </tr>\n",
       "    <tr>\n",
       "      <th>1</th>\n",
       "      <td>1</td>\n",
       "      <td>MISC</td>\n",
       "      <td>If the underlying model class is discrete, the...</td>\n",
       "    </tr>\n",
       "    <tr>\n",
       "      <th>2</th>\n",
       "      <td>2</td>\n",
       "      <td>MISC</td>\n",
       "      <td>For MDL, in general one can only have loss bou...</td>\n",
       "    </tr>\n",
       "    <tr>\n",
       "      <th>3</th>\n",
       "      <td>3</td>\n",
       "      <td>AIMX</td>\n",
       "      <td>We show that this is even the case if the mode...</td>\n",
       "    </tr>\n",
       "    <tr>\n",
       "      <th>4</th>\n",
       "      <td>4</td>\n",
       "      <td>OWNX</td>\n",
       "      <td>We derive a new upper bound on the prediction ...</td>\n",
       "    </tr>\n",
       "  </tbody>\n",
       "</table>\n",
       "</div>"
      ],
      "text/plain": [
       "   Unnamed: 0 Label                                               Text\n",
       "0           0  MISC  The Minimum Description Length principle for o...\n",
       "1           1  MISC  If the underlying model class is discrete, the...\n",
       "2           2  MISC  For MDL, in general one can only have loss bou...\n",
       "3           3  AIMX  We show that this is even the case if the mode...\n",
       "4           4  OWNX  We derive a new upper bound on the prediction ..."
      ]
     },
     "execution_count": 4,
     "metadata": {},
     "output_type": "execute_result"
    }
   ],
   "source": [
    "train.head()"
   ]
  },
  {
   "cell_type": "markdown",
   "metadata": {},
   "source": [
    "### 2. Prepare TF-IDF\n",
    "\n",
    "[Sklearn's TfidfVectorizer](http://scikit-learn.org/stable/modules/generated/sklearn.feature_extraction.text.TfidfVectorizer.html) Convert a collection of raw documents to a matrix of TF-IDF features."
   ]
  },
  {
   "cell_type": "code",
   "execution_count": 5,
   "metadata": {
    "collapsed": true
   },
   "outputs": [],
   "source": [
    "from sklearn.feature_extraction.text import TfidfVectorizer"
   ]
  },
  {
   "cell_type": "code",
   "execution_count": 6,
   "metadata": {
    "collapsed": true
   },
   "outputs": [],
   "source": [
    "tfidf_vectorizer = TfidfVectorizer(analyzer=\"word\",\n",
    "                                   tokenizer=nltk.word_tokenize,\n",
    "                                   preprocessor=None,\n",
    "                                   stop_words='english',\n",
    "                                   max_features=None)\n",
    "sparce_tfidf = tfidf_vectorizer.fit_transform(train['Text'])"
   ]
  },
  {
   "cell_type": "markdown",
   "metadata": {},
   "source": [
    "#### Use tfidf array\n",
    "\n",
    "```tfidf_vectorizer.fit_transform()``` provides us a sparce matrix. This can be converted to a numpy array by taking ```np.toarray()```"
   ]
  },
  {
   "cell_type": "code",
   "execution_count": 7,
   "metadata": {
    "collapsed": true
   },
   "outputs": [],
   "source": [
    "tfidf = sparce_tfidf.toarray()"
   ]
  },
  {
   "cell_type": "markdown",
   "metadata": {
    "collapsed": true
   },
   "source": [
    "#####  Latent Semantic Analysis : Use truncated TF-IDF"
   ]
  },
  {
   "cell_type": "markdown",
   "metadata": {},
   "source": [
    "[Sklearn's TruncatedSVD](http://scikit-learn.org/stable/modules/generated/sklearn.decomposition.TruncatedSVD.html#sklearn.decomposition.TruncatedSVD) implements a variant of singular value decomposition (SVD) that only computes the k largest singular values, where k is a user-specified parameter.\n",
    "\n",
    "When truncated SVD is applied to term-document matrices (as returned by CountVectorizer or TfidfVectorizer), this transformation is known as latent semantic analysis (LSA), because it transforms such matrices to a “semantic” space of low dimensionality.\n",
    "\n",
    "###### Parameters being used\n",
    "* Desired dimensionality of output data:  ```n_components=200```\n",
    "* Number of iterations for randomized SVD solver : ```n_iter=25``` \n"
   ]
  },
  {
   "cell_type": "code",
   "execution_count": 8,
   "metadata": {
    "collapsed": true
   },
   "outputs": [],
   "source": [
    "from sklearn.decomposition import TruncatedSVD"
   ]
  },
  {
   "cell_type": "code",
   "execution_count": 9,
   "metadata": {
    "collapsed": true
   },
   "outputs": [],
   "source": [
    "svd = TruncatedSVD(n_components=100, n_iter=25, random_state=12)\n",
    "t_tfidf = svd.fit_transform(tfidf)"
   ]
  },
  {
   "cell_type": "markdown",
   "metadata": {},
   "source": [
    "##### Encoding Targe"
   ]
  },
  {
   "cell_type": "markdown",
   "metadata": {},
   "source": [
    "Panda's ```get_dummies``` gets one hot encodding while we can use sklearn's ```LabelEncoder``` from ```sklearn.preprocessing``` for label encodding."
   ]
  },
  {
   "cell_type": "code",
   "execution_count": 10,
   "metadata": {
    "collapsed": true
   },
   "outputs": [],
   "source": [
    "from sklearn.preprocessing import LabelEncoder"
   ]
  },
  {
   "cell_type": "code",
   "execution_count": 11,
   "metadata": {
    "collapsed": true
   },
   "outputs": [],
   "source": [
    "label = train['Label'].values.ravel()\n",
    "\n",
    "# One Hot encoding\n",
    "ohe_label = pd.get_dummies(label).values\n",
    "\n",
    "# Label Incoding\n",
    "lbe_label =  LabelEncoder().fit(label).transform(label)"
   ]
  },
  {
   "cell_type": "markdown",
   "metadata": {},
   "source": [
    "### 3. Shuffle and Split Data"
   ]
  },
  {
   "cell_type": "code",
   "execution_count": 12,
   "metadata": {
    "collapsed": true
   },
   "outputs": [],
   "source": [
    "from sklearn.model_selection import train_test_split\n",
    "from sklearn.utils import shuffle"
   ]
  },
  {
   "cell_type": "code",
   "execution_count": 13,
   "metadata": {
    "collapsed": true
   },
   "outputs": [],
   "source": [
    "def get_train_test_data(features,target):\n",
    "\n",
    "    #shuffle the data\n",
    "    features, target = shuffle(features, target)\n",
    "\n",
    "    # Split the 'features' and 'targets' data into training and testing sets\n",
    "    X_train, X_test, y_train, y_test = train_test_split(features,\n",
    "                                                    target, \n",
    "                                                    test_size = 0.2,\n",
    "                                                    random_state = 0)\n",
    "    # Show the results of the split\n",
    "    print (\"Training set has {} samples.\".format(X_train.shape[0]))\n",
    "    print (\"Testing set has {} samples.\".format(X_test.shape[0]))\n",
    "    return X_train, X_test, y_train, y_test"
   ]
  },
  {
   "cell_type": "markdown",
   "metadata": {},
   "source": [
    "--------"
   ]
  },
  {
   "cell_type": "markdown",
   "metadata": {},
   "source": [
    "### 4. Initial Model Evaluation"
   ]
  },
  {
   "cell_type": "markdown",
   "metadata": {},
   "source": [
    "#### 4.1 Pipeline:\n",
    "This pipeline helps to train and prepare performance and accuracy reports. We will use ```log_loss``` as the loss function and ```accuracy_score``` as performance metric."
   ]
  },
  {
   "cell_type": "code",
   "execution_count": 14,
   "metadata": {
    "collapsed": true
   },
   "outputs": [],
   "source": [
    "# metrics\n",
    "from sklearn.metrics import log_loss, accuracy_score, f1_score\n",
    "from sklearn.metrics import confusion_matrix, precision_score,recall_score"
   ]
  },
  {
   "cell_type": "code",
   "execution_count": 15,
   "metadata": {
    "collapsed": true
   },
   "outputs": [],
   "source": [
    "def train_predict(learner, X_train, y_train, X_test, y_test, disp_cmat=False): \n",
    "    '''\n",
    "    inputs:\n",
    "        learner: the learning algorithm to be trained and predicted on\n",
    "        sample_size: the size of samples (number) to be drawn from training set\n",
    "        X_train: features training set\n",
    "        y_train: income training set\n",
    "        X_test: features testing set\n",
    "        y_test: income testing set\n",
    "    '''\n",
    "    \n",
    "    results = {}\n",
    "    c_matrix = {}\n",
    "    #report = {}\n",
    "    \n",
    "    #  Fit the learner to the training data using slicing with 'sample_size'\n",
    "    start = time()  # Get start time  -------->\n",
    "    learner.fit(X_train, y_train)\n",
    "    end = time()    # Get end time      <--------\n",
    "\n",
    "    \n",
    "    \n",
    "    #  Calculate the training time\n",
    "    results['train_time'] = end-start\n",
    "        \n",
    "        \n",
    "    #  Get the predictions on the test set,\n",
    "    #  then get predictions on the training samples\n",
    "    start = time()  # Get start time    ------->\n",
    "    predictions_test = learner.predict(X_test)\n",
    "    predict_prob_test = learner.predict_proba(X_test)\n",
    "    predictions_train = learner.predict(X_train)\n",
    "    predict_prob_train = learner.predict_proba(X_train)\n",
    "    end = time()    # Get end time        <-------\n",
    "    \n",
    "    \n",
    "    # Calculate the total prediction time\n",
    "    results['pred_time'] = end-start\n",
    "           \n",
    "        \n",
    "    # Compute accuracy on the training samples\n",
    "    results['acc_train'] = accuracy_score(y_train, predictions_train)\n",
    "        \n",
    "    # Compute accuracy on test set\n",
    "    results['acc_test'] = accuracy_score(y_test, predictions_test)\n",
    "    \n",
    "    # Log loss on the the  training samples\n",
    "    results['logloss_train'] = log_loss(y_train, predict_prob_train)\n",
    "        \n",
    "    # Log loss on the test set\n",
    "    results['logloss_test'] = log_loss(y_test, predict_prob_test)\n",
    "    \n",
    "    # Prepare Confusion Matix\n",
    "    c_matrix['c_mat'] = confusion_matrix(y_test, predictions_test)\n",
    "      \n",
    "        \n",
    "    #classification report\n",
    "    #report['classification_report'] = classification_report(y_test, predictions_test)\n",
    "    \n",
    "        \n",
    "    #f1 score\n",
    "    #results['f1_score'] = f1_score(y_test, predictions_test, average='macro')\n",
    "    \n",
    "    \n",
    "    #results['precission'] = precision_score(y_test, predictions_test, average=None)\n",
    "    #results['recall'] = recall_score(y_test, predictions_test, average=None)   \n",
    "    \n",
    "        \n",
    "    # Success\n",
    "    print (\"{} trained on {} train data.\".format(learner.__class__.__name__,X_train.shape[0]))\n",
    "        \n",
    "    if disp_cmat:\n",
    "        scikitplot.metrics.plot_confusion_matrix(y_test,predictions_test)\n",
    "        \n",
    "    # Return the results\n",
    "    return results, c_matrix "
   ]
  },
  {
   "cell_type": "markdown",
   "metadata": {},
   "source": [
    "#### Get tfidf train and test data"
   ]
  },
  {
   "cell_type": "code",
   "execution_count": 16,
   "metadata": {},
   "outputs": [
    {
     "name": "stdout",
     "output_type": "stream",
     "text": [
      "Training set has 2493 samples.\n",
      "Testing set has 624 samples.\n"
     ]
    }
   ],
   "source": [
    " X_train, X_test, y_train, y_test = get_train_test_data(tfidf,lbe_label)"
   ]
  },
  {
   "cell_type": "markdown",
   "metadata": {},
   "source": [
    "#### Get truncated bag of words train and test data"
   ]
  },
  {
   "cell_type": "code",
   "execution_count": 17,
   "metadata": {
    "collapsed": true
   },
   "outputs": [],
   "source": [
    "#X_train, X_test, y_train, y_test = get_train_test_data(t_tfidf,lbe_label)"
   ]
  },
  {
   "cell_type": "markdown",
   "metadata": {},
   "source": [
    "#### A sample run\n",
    "Lets look a sample run using [sklearn's GaussianNB()](http://scikit-learn.org/stable/modules/naive_bayes.html)"
   ]
  },
  {
   "cell_type": "code",
   "execution_count": 18,
   "metadata": {
    "collapsed": true
   },
   "outputs": [],
   "source": [
    "from sklearn.naive_bayes import GaussianNB"
   ]
  },
  {
   "cell_type": "code",
   "execution_count": 19,
   "metadata": {},
   "outputs": [
    {
     "name": "stdout",
     "output_type": "stream",
     "text": [
      "GaussianNB trained on 2493 train data.\n"
     ]
    },
    {
     "data": {
      "text/plain": [
       "({'acc_test': 0.80929487179487181,\n",
       "  'acc_train': 0.88848776574408339,\n",
       "  'logloss_test': 6.586721780439702,\n",
       "  'logloss_train': 3.8514961242620069,\n",
       "  'pred_time': 1.271894931793213,\n",
       "  'train_time': 0.19256186485290527},\n",
       " {'c_mat': array([[ 32,   1,   0,   1,   9],\n",
       "         [  1,   7,   0,   0,   3],\n",
       "         [  0,   0,  19,   8,   3],\n",
       "         [  5,   3,  21, 317,  24],\n",
       "         [ 20,   4,   3,  13, 130]])})"
      ]
     },
     "execution_count": 19,
     "metadata": {},
     "output_type": "execute_result"
    },
    {
     "data": {
      "image/png": "[encoded data removed]",
      "text/plain": [
       "<matplotlib.figure.Figure at 0x11fb715f8>"
      ]
     },
     "metadata": {},
     "output_type": "display_data"
    }
   ],
   "source": [
    "gnb = GaussianNB()\n",
    "train_predict( gnb, X_train, y_train, X_test, y_test, disp_cmat=True)"
   ]
  },
  {
   "cell_type": "markdown",
   "metadata": {},
   "source": [
    "#### 4.2  Evaluation of Multiple Models\n",
    "\n",
    "We want to run model evaluation to multiple models viz: \n",
    "\n",
    "1. [MultinomialNB](http://scikit-learn.org/stable/modules/generated/sklearn.naive_bayes.MultinomialNB.html)\n",
    "2. [LogisticRegression](http://scikit-learn.org/stable/modules/generated/sklearn.linear_model.LogisticRegression.html)\n",
    "3. [SVC](http://scikit-learn.org/stable/modules/generated/sklearn.svm.SVC.html)\n",
    "4. [KNeighborsClassifier](http://scikit-learn.org/stable/modules/generated/sklearn.neighbors.KNeighborsClassifier.html)\n",
    "\n",
    "###### Ensambles (Bagging & Boosting)\n",
    "\n",
    "5. [RandomForestClassifier](http://scikit-learn.org/stable/modules/generated/sklearn.ensemble.RandomForestClassifier.html)\n",
    "6. [GradientBoostingClassifier](http://scikit-learn.org/stable/modules/generated/sklearn.ensemble.GradientBoostingClassifier.html)\n",
    "7. [XGBClassifier](http://pandas-ml.readthedocs.io/en/latest/xgboost.html)\n",
    "\n"
   ]
  },
  {
   "cell_type": "code",
   "execution_count": 20,
   "metadata": {},
   "outputs": [
    {
     "name": "stderr",
     "output_type": "stream",
     "text": [
      "/Users/dibakarsigdel/anaconda/envs/carnd-term1/lib/python3.5/site-packages/sklearn/cross_validation.py:44: DeprecationWarning: This module was deprecated in version 0.18 in favor of the model_selection module into which all the refactored classes and functions are moved. Also note that the interface of the new CV iterators are different from that of this module. This module will be removed in 0.20.\n",
      "  \"This module will be removed in 0.20.\", DeprecationWarning)\n"
     ]
    }
   ],
   "source": [
    "# Models\n",
    "from sklearn.naive_bayes import  MultinomialNB\n",
    "from sklearn.linear_model import LogisticRegression\n",
    "from sklearn.svm import SVC\n",
    "from sklearn.neighbors import KNeighborsClassifier\n",
    "from sklearn.ensemble import RandomForestClassifier\n",
    "from sklearn.ensemble import GradientBoostingClassifier\n",
    "from xgboost import XGBClassifier"
   ]
  },
  {
   "cell_type": "code",
   "execution_count": 21,
   "metadata": {},
   "outputs": [
    {
     "name": "stdout",
     "output_type": "stream",
     "text": [
      "MultinomialNB trained on 2493 train data.\n",
      "LogisticRegression trained on 2493 train data.\n",
      "SVC trained on 2493 train data.\n",
      "KNeighborsClassifier trained on 2493 train data.\n",
      "RandomForestClassifier trained on 2493 train data.\n",
      "GradientBoostingClassifier trained on 2493 train data.\n",
      "XGBClassifier trained on 2493 train data.\n"
     ]
    }
   ],
   "source": [
    "# Initialize the three models\n",
    "clf_A = MultinomialNB() \n",
    "\n",
    "\n",
    "clf_B = LogisticRegression(random_state=101)\n",
    "\n",
    "\n",
    "clf_C = SVC(kernel='rbf', probability=True)\n",
    "\n",
    "\n",
    "clf_D = KNeighborsClassifier(n_neighbors=5)\n",
    "\n",
    "\n",
    "clf_E = RandomForestClassifier(n_estimators=500,\n",
    "                               max_depth=5,\n",
    "                               verbose=0)\n",
    "\n",
    "clf_F = GradientBoostingClassifier()\n",
    "\n",
    "\n",
    "clf_G = XGBClassifier(max_depth=4,\n",
    "                      objective='multi:softprob',\n",
    "                      learning_rate=0.8)\n",
    "\n",
    "                                \n",
    "\n",
    "# Collect results on the learners\n",
    "results1 = {}\n",
    "c_matrix1 = {}\n",
    "\n",
    "\n",
    "for clf in [clf_A, clf_B, clf_C, clf_D, clf_E, clf_F, clf_G]:\n",
    "    clf_name = clf.__class__.__name__\n",
    "    results1[clf_name] = {}\n",
    "    c_matrix1[clf_name] = {}\n",
    "    \n",
    "   \n",
    "\n",
    "    results1[clf_name], c_matrix1[clf_name]  = \\\n",
    "                    train_predict(clf, X_train, y_train, X_test, y_test)\n",
    "   "
   ]
  },
  {
   "cell_type": "markdown",
   "metadata": {},
   "source": [
    "#### 4.3 Results"
   ]
  },
  {
   "cell_type": "code",
   "execution_count": 22,
   "metadata": {},
   "outputs": [
    {
     "data": {
      "text/html": [
       "<div>\n",
       "<table border=\"1\" class=\"dataframe\">\n",
       "  <thead>\n",
       "    <tr style=\"text-align: right;\">\n",
       "      <th></th>\n",
       "      <th>acc_test</th>\n",
       "      <th>acc_train</th>\n",
       "      <th>logloss_test</th>\n",
       "      <th>logloss_train</th>\n",
       "      <th>pred_time</th>\n",
       "      <th>train_time</th>\n",
       "    </tr>\n",
       "  </thead>\n",
       "  <tbody>\n",
       "    <tr>\n",
       "      <th>GradientBoostingClassifier</th>\n",
       "      <td>0.796474</td>\n",
       "      <td>0.886081</td>\n",
       "      <td>0.647981</td>\n",
       "      <td>0.478758</td>\n",
       "      <td>0.166056</td>\n",
       "      <td>191.566290</td>\n",
       "    </tr>\n",
       "    <tr>\n",
       "      <th>KNeighborsClassifier</th>\n",
       "      <td>0.701923</td>\n",
       "      <td>0.844364</td>\n",
       "      <td>2.104077</td>\n",
       "      <td>0.351722</td>\n",
       "      <td>81.567048</td>\n",
       "      <td>0.419508</td>\n",
       "    </tr>\n",
       "    <tr>\n",
       "      <th>LogisticRegression</th>\n",
       "      <td>0.786859</td>\n",
       "      <td>0.846771</td>\n",
       "      <td>0.705255</td>\n",
       "      <td>0.578938</td>\n",
       "      <td>0.047593</td>\n",
       "      <td>0.040749</td>\n",
       "    </tr>\n",
       "    <tr>\n",
       "      <th>MultinomialNB</th>\n",
       "      <td>0.769231</td>\n",
       "      <td>0.817890</td>\n",
       "      <td>0.718934</td>\n",
       "      <td>0.564575</td>\n",
       "      <td>0.052644</td>\n",
       "      <td>0.039383</td>\n",
       "    </tr>\n",
       "    <tr>\n",
       "      <th>RandomForestClassifier</th>\n",
       "      <td>0.592949</td>\n",
       "      <td>0.583634</td>\n",
       "      <td>0.991171</td>\n",
       "      <td>0.969722</td>\n",
       "      <td>0.674990</td>\n",
       "      <td>3.914299</td>\n",
       "    </tr>\n",
       "    <tr>\n",
       "      <th>SVC</th>\n",
       "      <td>0.592949</td>\n",
       "      <td>0.583634</td>\n",
       "      <td>0.626626</td>\n",
       "      <td>0.388008</td>\n",
       "      <td>41.109795</td>\n",
       "      <td>93.597613</td>\n",
       "    </tr>\n",
       "    <tr>\n",
       "      <th>XGBClassifier</th>\n",
       "      <td>0.830128</td>\n",
       "      <td>0.941035</td>\n",
       "      <td>0.599830</td>\n",
       "      <td>0.179691</td>\n",
       "      <td>0.383451</td>\n",
       "      <td>30.424905</td>\n",
       "    </tr>\n",
       "  </tbody>\n",
       "</table>\n",
       "</div>"
      ],
      "text/plain": [
       "                            acc_test  acc_train  logloss_test  logloss_train  \\\n",
       "GradientBoostingClassifier  0.796474   0.886081      0.647981       0.478758   \n",
       "KNeighborsClassifier        0.701923   0.844364      2.104077       0.351722   \n",
       "LogisticRegression          0.786859   0.846771      0.705255       0.578938   \n",
       "MultinomialNB               0.769231   0.817890      0.718934       0.564575   \n",
       "RandomForestClassifier      0.592949   0.583634      0.991171       0.969722   \n",
       "SVC                         0.592949   0.583634      0.626626       0.388008   \n",
       "XGBClassifier               0.830128   0.941035      0.599830       0.179691   \n",
       "\n",
       "                            pred_time  train_time  \n",
       "GradientBoostingClassifier   0.166056  191.566290  \n",
       "KNeighborsClassifier        81.567048    0.419508  \n",
       "LogisticRegression           0.047593    0.040749  \n",
       "MultinomialNB                0.052644    0.039383  \n",
       "RandomForestClassifier       0.674990    3.914299  \n",
       "SVC                         41.109795   93.597613  \n",
       "XGBClassifier                0.383451   30.424905  "
      ]
     },
     "execution_count": 22,
     "metadata": {},
     "output_type": "execute_result"
    }
   ],
   "source": [
    "result1_df = pd.DataFrame(results1).transpose()\n",
    "models = list(result1_df.index)\n",
    "result1_df "
   ]
  },
  {
   "cell_type": "markdown",
   "metadata": {},
   "source": [
    "#### 4.4 Comparision of Results :  Accuracy, Log Loss  and Time"
   ]
  },
  {
   "cell_type": "code",
   "execution_count": 23,
   "metadata": {},
   "outputs": [
    {
     "data": {
      "image/png": "[encoded data removed]",
      "text/plain": [
       "<matplotlib.figure.Figure at 0x126176c88>"
      ]
     },
     "metadata": {},
     "output_type": "display_data"
    }
   ],
   "source": [
    "import seaborn as sns\n",
    "plt.figure(figsize = (18,10))\n",
    "plt.subplot(2,2,1)\n",
    "sns.barplot(x=\"acc_test\",y = models, data=result1_df);\n",
    "plt.title('Test Accuracy')\n",
    "plt.subplot(2,2,2)\n",
    "sns.barplot(x=\"acc_train\",y = models, data=result1_df);\n",
    "plt.title('Train Accuracy')\n",
    "plt.subplot(2,2,3)\n",
    "sns.barplot(x=\"logloss_test\",y = models, data=result1_df);\n",
    "plt.title('Log Loss')\n",
    "plt.subplot(2,2,4)\n",
    "sns.barplot(x=\"train_time\",y = models, data=result1_df);\n",
    "plt.title('Train Time')\n",
    "plt.show()"
   ]
  },
  {
   "cell_type": "markdown",
   "metadata": {},
   "source": [
    "#### 4.5 Confusion Matrices"
   ]
  },
  {
   "cell_type": "code",
   "execution_count": 24,
   "metadata": {
    "collapsed": true
   },
   "outputs": [],
   "source": [
    "lb = np.unique(train['Label'].values.ravel())\n",
    "cmatrix1 = pd.DataFrame(c_matrix1).transpose()"
   ]
  },
  {
   "cell_type": "code",
   "execution_count": 25,
   "metadata": {},
   "outputs": [
    {
     "data": {
      "image/png": "[encoded data removed]",
      "text/plain": [
       "<matplotlib.figure.Figure at 0x126176ac8>"
      ]
     },
     "metadata": {},
     "output_type": "display_data"
    }
   ],
   "source": [
    "plt.figure(figsize = (16,15))\n",
    "for k in range(len(models)):\n",
    "    mat = cmatrix1['c_mat'][k]\n",
    "    matt = pd.DataFrame(mat, columns = lb, index = lb)\n",
    "    plt.subplot(4,2,k+1)\n",
    "    plt.title(models[k])\n",
    "    sns.heatmap(matt, annot=True, fmt=\"d\")\n",
    "plt.show()"
   ]
  },
  {
   "cell_type": "markdown",
   "metadata": {},
   "source": [
    "-------"
   ]
  },
  {
   "cell_type": "markdown",
   "metadata": {},
   "source": [
    "### 5.  Tuning"
   ]
  },
  {
   "cell_type": "markdown",
   "metadata": {},
   "source": [
    "We pick a best model from model evaluation pipeline and investigate further. For Parameter tuning we will use [sklearn's GridSearchCV](http://scikit-learn.org/stable/modules/generated/sklearn.model_selection.GridSearchCV.html) for search of best parameter "
   ]
  },
  {
   "cell_type": "code",
   "execution_count": 26,
   "metadata": {
    "collapsed": true
   },
   "outputs": [],
   "source": [
    "# Import 'GridSearchCV', 'make_scorer', and any other necessary libraries\n",
    "from sklearn.model_selection import GridSearchCV\n",
    "from sklearn.metrics import make_scorer\n"
   ]
  },
  {
   "cell_type": "markdown",
   "metadata": {},
   "source": [
    "#### 5.1. Parameter Tuning For Best Classifier: XGBoost"
   ]
  },
  {
   "cell_type": "code",
   "execution_count": 27,
   "metadata": {},
   "outputs": [
    {
     "name": "stdout",
     "output_type": "stream",
     "text": [
      "Unoptimized model\n",
      "------\n",
      "Accuracy score on testing data: 0.7228\n",
      "\n",
      "Optimized Model\n",
      "------\n",
      "Final accuracy score on the testing data: 0.8333\n"
     ]
    }
   ],
   "source": [
    "\n",
    "# Initialize the classifier\n",
    "clf = XGBClassifier()\n",
    "\n",
    "\n",
    "# Create the parameters list you wish to tune\n",
    "tuned_parameters = [{'max_depth':[3,4],\n",
    "                     'learning_rate' : [0.01,0.05,0.1,0.5,0.8]}]\n",
    "                     \n",
    "\n",
    "\n",
    "# Make an logloss_score scoring object\n",
    "scorer = make_scorer(accuracy_score)\n",
    "\n",
    "\n",
    "# Perform grid search on the classifier using 'scorer' as the scoring method\n",
    "grid_obj = GridSearchCV(clf, tuned_parameters, cv =4, scoring=scorer)\n",
    "\n",
    "\n",
    "# Fit the grid search object to the training data and find the optimal parameters\n",
    "grid_fit = grid_obj.fit(X_train, y_train)\n",
    "\n",
    "\n",
    "# Get the estimator\n",
    "best_clf = grid_fit.best_estimator_\n",
    "\n",
    "\n",
    "# Make predictions using the unoptimized and model\n",
    "predictions_test = (clf.fit(X_train, y_train)).predict(X_test)\n",
    "\n",
    "\n",
    "\n",
    "best_predictions = best_clf.predict(X_test)\n",
    "\n",
    "\n",
    "\n",
    "# Report the before-and-afterscores\n",
    "print (\"Unoptimized model\\n------\")\n",
    "print (\"Accuracy score on testing data: {:.4f}\".format(accuracy_score(y_test, predictions_test)))\n",
    "\n",
    "\n",
    "\n",
    "print (\"\\nOptimized Model\\n------\")\n",
    "print (\"Final accuracy score on the testing data: {:.4f}\".format(accuracy_score(y_test, best_predictions)))\n"
   ]
  },
  {
   "cell_type": "code",
   "execution_count": 28,
   "metadata": {},
   "outputs": [
    {
     "data": {
      "text/plain": [
       "{'base_score': 0.5,\n",
       " 'colsample_bylevel': 1,\n",
       " 'colsample_bytree': 1,\n",
       " 'gamma': 0,\n",
       " 'learning_rate': 0.8,\n",
       " 'max_delta_step': 0,\n",
       " 'max_depth': 3,\n",
       " 'min_child_weight': 1,\n",
       " 'missing': None,\n",
       " 'n_estimators': 100,\n",
       " 'nthread': -1,\n",
       " 'objective': 'multi:softprob',\n",
       " 'reg_alpha': 0,\n",
       " 'reg_lambda': 1,\n",
       " 'scale_pos_weight': 1,\n",
       " 'seed': 0,\n",
       " 'silent': True,\n",
       " 'subsample': 1}"
      ]
     },
     "execution_count": 28,
     "metadata": {},
     "output_type": "execute_result"
    }
   ],
   "source": [
    "best_clf.get_params()"
   ]
  },
  {
   "cell_type": "markdown",
   "metadata": {},
   "source": [
    "-------------"
   ]
  },
  {
   "cell_type": "markdown",
   "metadata": {},
   "source": [
    "#### 5.2.   Parameter Tuning For Best Classifier: Logistic Regression"
   ]
  },
  {
   "cell_type": "code",
   "execution_count": 33,
   "metadata": {},
   "outputs": [
    {
     "name": "stdout",
     "output_type": "stream",
     "text": [
      "Unoptimized model\n",
      "------\n",
      "Accuracy score on testing data: 0.7869\n",
      "\n",
      "Optimized Model\n",
      "------\n",
      "Final accuracy score on the testing data: 0.7869\n"
     ]
    }
   ],
   "source": [
    "# Initialize the classifier\n",
    "clf = LogisticRegression()\n",
    "\n",
    "\n",
    "# Create the parameters list you wish to tune\n",
    "tuned_parameters = {'solver': ['liblinear','lbfgs'],\n",
    "              'C': [0.1,0.5,0.7,1.0],\n",
    "              'random_state': [101,101,101]}\n",
    "                     \n",
    "\n",
    "\n",
    "# Make an logloss_score scoring object\n",
    "scorer = make_scorer(accuracy_score)\n",
    "\n",
    "\n",
    "# Perform grid search on the classifier using 'scorer' as the scoring method\n",
    "grid_obj = GridSearchCV(clf, tuned_parameters, cv =4, scoring=scorer)\n",
    "\n",
    "\n",
    "# Fit the grid search object to the training data and find the optimal parameters\n",
    "grid_fit = grid_obj.fit(X_train, y_train)\n",
    "\n",
    "\n",
    "# Get the estimator\n",
    "best_clf = grid_fit.best_estimator_\n",
    "\n",
    "\n",
    "# Make predictions using the unoptimized and model\n",
    "predictions_test = (clf.fit(X_train, y_train)).predict(X_test)\n",
    "\n",
    "\n",
    "\n",
    "best_predictions = best_clf.predict(X_test)\n",
    "\n",
    "\n",
    "\n",
    "# Report the before-and-afterscores\n",
    "print (\"Unoptimized model\\n------\")\n",
    "print (\"Accuracy score on testing data: {:.4f}\".format(accuracy_score(y_test, predictions_test)))\n",
    "\n",
    "\n",
    "\n",
    "print (\"\\nOptimized Model\\n------\")\n",
    "print (\"Final accuracy score on the testing data: {:.4f}\".format(accuracy_score(y_test, best_predictions)))\n"
   ]
  },
  {
   "cell_type": "code",
   "execution_count": 59,
   "metadata": {},
   "outputs": [
    {
     "data": {
      "text/plain": [
       "{'C': 1.0,\n",
       " 'class_weight': None,\n",
       " 'dual': False,\n",
       " 'fit_intercept': True,\n",
       " 'intercept_scaling': 1,\n",
       " 'max_iter': 100,\n",
       " 'multi_class': 'ovr',\n",
       " 'n_jobs': 1,\n",
       " 'penalty': 'l2',\n",
       " 'random_state': 101,\n",
       " 'solver': 'liblinear',\n",
       " 'tol': 0.0001,\n",
       " 'verbose': 0,\n",
       " 'warm_start': False}"
      ]
     },
     "execution_count": 59,
     "metadata": {},
     "output_type": "execute_result"
    }
   ],
   "source": [
    "best_clf.get_params()"
   ]
  },
  {
   "cell_type": "markdown",
   "metadata": {
    "collapsed": true
   },
   "source": [
    "### 6. Using Neural Network"
   ]
  },
  {
   "cell_type": "markdown",
   "metadata": {},
   "source": [
    "This Neural network is motivation from Logistic Regression. Since It did better then other classifier. We can keep it as a final layer of neural network using ```softmax```."
   ]
  },
  {
   "cell_type": "markdown",
   "metadata": {},
   "source": [
    "#### 6.1 Simple Neural Network classifier with tfidf"
   ]
  },
  {
   "cell_type": "code",
   "execution_count": 29,
   "metadata": {
    "collapsed": true
   },
   "outputs": [],
   "source": [
    "from keras.models import Sequential\n",
    "from keras.utils import np_utils\n",
    "from keras.layers.core import Dense, Activation, Dropout, Flatten\n",
    "from keras.layers.convolutional import Convolution2D\n",
    "from keras.layers.convolutional import MaxPooling2D\n",
    "from keras.callbacks import ModelCheckpoint\n",
    "import os"
   ]
  },
  {
   "cell_type": "code",
   "execution_count": 30,
   "metadata": {},
   "outputs": [
    {
     "name": "stdout",
     "output_type": "stream",
     "text": [
      "Training set has 2493 samples.\n",
      "Testing set has 624 samples.\n"
     ]
    }
   ],
   "source": [
    "X_train, X_test, y_train, y_test = get_train_test_data(tfidf,lbe_label)"
   ]
  },
  {
   "cell_type": "code",
   "execution_count": 31,
   "metadata": {
    "collapsed": true
   },
   "outputs": [],
   "source": [
    "y_train = np_utils.to_categorical(y_train)\n",
    "num_classes = y_train.shape[1]\n",
    "input_dim = X_train.shape[1]"
   ]
  },
  {
   "cell_type": "code",
   "execution_count": 32,
   "metadata": {},
   "outputs": [
    {
     "name": "stdout",
     "output_type": "stream",
     "text": [
      "_________________________________________________________________\n",
      "Layer (type)                 Output Shape              Param #   \n",
      "=================================================================\n",
      "dense_1 (Dense)              (None, 500)               2019000   \n",
      "_________________________________________________________________\n",
      "dropout_1 (Dropout)          (None, 500)               0         \n",
      "_________________________________________________________________\n",
      "dense_2 (Dense)              (None, 300)               150300    \n",
      "_________________________________________________________________\n",
      "dropout_2 (Dropout)          (None, 300)               0         \n",
      "_________________________________________________________________\n",
      "dense_3 (Dense)              (None, 100)               30100     \n",
      "_________________________________________________________________\n",
      "dropout_3 (Dropout)          (None, 100)               0         \n",
      "_________________________________________________________________\n",
      "dense_4 (Dense)              (None, 50)                5050      \n",
      "_________________________________________________________________\n",
      "dropout_4 (Dropout)          (None, 50)                0         \n",
      "_________________________________________________________________\n",
      "dense_5 (Dense)              (None, 5)                 255       \n",
      "=================================================================\n",
      "Total params: 2,204,705\n",
      "Trainable params: 2,204,705\n",
      "Non-trainable params: 0\n",
      "_________________________________________________________________\n"
     ]
    }
   ],
   "source": [
    "# Model saving callback\n",
    "ckpt_callback = ModelCheckpoint('tfidf_nn', \n",
    "                                 monitor='val_loss', \n",
    "                                 verbose=1, \n",
    "                                 save_best_only=True, \n",
    "                                 mode='auto')\n",
    "\n",
    "\n",
    "model = Sequential()\n",
    "model.add(Dense(500, input_dim=input_dim, activation='relu'))\n",
    "model.add(Dropout(0.20))\n",
    "model.add(Dense(300, input_dim=input_dim, activation='relu'))\n",
    "model.add(Dropout(0.20))\n",
    "model.add(Dense(100, input_dim=input_dim, activation='relu'))\n",
    "model.add(Dropout(0.20))\n",
    "model.add(Dense(50, activation='relu'))\n",
    "model.add(Dropout(0.20))\n",
    "model.add(Dense(num_classes, activation='softmax'))\n",
    "model.summary()"
   ]
  },
  {
   "cell_type": "code",
   "execution_count": 33,
   "metadata": {
    "collapsed": true
   },
   "outputs": [],
   "source": [
    "# we'll use categorical xent for the loss, and RMSprop as the optimizer\n",
    "model.compile(loss='categorical_crossentropy',\\\n",
    "              optimizer='rmsprop',\\\n",
    "              metrics=['accuracy'])"
   ]
  },
  {
   "cell_type": "code",
   "execution_count": 36,
   "metadata": {},
   "outputs": [
    {
     "name": "stdout",
     "output_type": "stream",
     "text": [
      "Training...\n",
      "Train on 1495 samples, validate on 998 samples\n",
      "Epoch 1/40\n"
     ]
    },
    {
     "name": "stderr",
     "output_type": "stream",
     "text": [
      "/Users/dibakarsigdel/anaconda/envs/carnd-term1/lib/python3.5/site-packages/keras/models.py:834: UserWarning: The `nb_epoch` argument in `fit` has been renamed `epochs`.\n",
      "  warnings.warn('The `nb_epoch` argument in `fit` '\n"
     ]
    },
    {
     "name": "stdout",
     "output_type": "stream",
     "text": [
      "1s - loss: 0.2074 - acc: 0.9398 - val_loss: 1.7181 - val_acc: 0.7806\n",
      "Epoch 2/40\n",
      "1s - loss: 0.2331 - acc: 0.9344 - val_loss: 1.6727 - val_acc: 0.7846\n",
      "Epoch 3/40\n",
      "1s - loss: 0.2089 - acc: 0.9418 - val_loss: 1.6894 - val_acc: 0.7956\n",
      "Epoch 4/40\n",
      "1s - loss: 0.2194 - acc: 0.9425 - val_loss: 1.6543 - val_acc: 0.7886\n",
      "Epoch 5/40\n",
      "1s - loss: 0.2134 - acc: 0.9398 - val_loss: 1.6889 - val_acc: 0.7896\n",
      "Epoch 6/40\n",
      "1s - loss: 0.2075 - acc: 0.9452 - val_loss: 1.6702 - val_acc: 0.7866\n",
      "Epoch 7/40\n",
      "1s - loss: 0.2075 - acc: 0.9465 - val_loss: 1.6463 - val_acc: 0.8006\n",
      "Epoch 8/40\n",
      "1s - loss: 0.2239 - acc: 0.9378 - val_loss: 1.5779 - val_acc: 0.8046\n",
      "Epoch 9/40\n",
      "1s - loss: 0.1957 - acc: 0.9431 - val_loss: 1.7661 - val_acc: 0.7886\n",
      "Epoch 10/40\n",
      "1s - loss: 0.2176 - acc: 0.9358 - val_loss: 1.6280 - val_acc: 0.8006\n",
      "Epoch 11/40\n",
      "1s - loss: 0.2072 - acc: 0.9405 - val_loss: 1.7349 - val_acc: 0.7846\n",
      "Epoch 12/40\n",
      "1s - loss: 0.2179 - acc: 0.9405 - val_loss: 1.6956 - val_acc: 0.7906\n",
      "Epoch 13/40\n",
      "1s - loss: 0.2102 - acc: 0.9365 - val_loss: 1.7324 - val_acc: 0.7876\n",
      "Epoch 14/40\n",
      "1s - loss: 0.2297 - acc: 0.9371 - val_loss: 1.6630 - val_acc: 0.7986\n",
      "Epoch 15/40\n",
      "1s - loss: 0.2096 - acc: 0.9324 - val_loss: 1.7228 - val_acc: 0.7625\n",
      "Epoch 16/40\n",
      "1s - loss: 0.1989 - acc: 0.9431 - val_loss: 1.7501 - val_acc: 0.7996\n",
      "Epoch 17/40\n",
      "1s - loss: 0.2182 - acc: 0.9371 - val_loss: 1.7940 - val_acc: 0.7796\n",
      "Epoch 18/40\n",
      "1s - loss: 0.2283 - acc: 0.9425 - val_loss: 1.7570 - val_acc: 0.7866\n",
      "Epoch 19/40\n",
      "1s - loss: 0.2241 - acc: 0.9378 - val_loss: 1.7442 - val_acc: 0.7886\n",
      "Epoch 20/40\n",
      "1s - loss: 0.2135 - acc: 0.9365 - val_loss: 1.7406 - val_acc: 0.7625\n",
      "Epoch 21/40\n",
      "1s - loss: 0.2062 - acc: 0.9431 - val_loss: 1.8149 - val_acc: 0.7715\n",
      "Epoch 22/40\n",
      "1s - loss: 0.2154 - acc: 0.9418 - val_loss: 1.8065 - val_acc: 0.7896\n",
      "Epoch 23/40\n",
      "1s - loss: 0.2188 - acc: 0.9431 - val_loss: 1.7137 - val_acc: 0.7876\n",
      "Epoch 24/40\n",
      "1s - loss: 0.2092 - acc: 0.9371 - val_loss: 1.7466 - val_acc: 0.7846\n",
      "Epoch 25/40\n",
      "1s - loss: 0.2145 - acc: 0.9425 - val_loss: 1.7808 - val_acc: 0.7846\n",
      "Epoch 26/40\n",
      "1s - loss: 0.2087 - acc: 0.9438 - val_loss: 1.7948 - val_acc: 0.7735\n",
      "Epoch 27/40\n",
      "1s - loss: 0.1935 - acc: 0.9425 - val_loss: 1.8513 - val_acc: 0.7846\n",
      "Epoch 28/40\n",
      "1s - loss: 0.2298 - acc: 0.9431 - val_loss: 1.7603 - val_acc: 0.7645\n",
      "Epoch 29/40\n",
      "1s - loss: 0.2066 - acc: 0.9411 - val_loss: 1.8032 - val_acc: 0.7705\n",
      "Epoch 30/40\n",
      "1s - loss: 0.2235 - acc: 0.9418 - val_loss: 1.8145 - val_acc: 0.7625\n",
      "Epoch 31/40\n",
      "1s - loss: 0.2085 - acc: 0.9365 - val_loss: 1.8312 - val_acc: 0.7655\n",
      "Epoch 32/40\n",
      "1s - loss: 0.2137 - acc: 0.9351 - val_loss: 1.8185 - val_acc: 0.7605\n",
      "Epoch 33/40\n",
      "1s - loss: 0.2046 - acc: 0.9358 - val_loss: 1.8286 - val_acc: 0.7766\n",
      "Epoch 34/40\n",
      "1s - loss: 0.1965 - acc: 0.9391 - val_loss: 1.8278 - val_acc: 0.7735\n",
      "Epoch 35/40\n",
      "1s - loss: 0.2130 - acc: 0.9438 - val_loss: 1.8026 - val_acc: 0.7806\n",
      "Epoch 36/40\n",
      "1s - loss: 0.2032 - acc: 0.9405 - val_loss: 1.8501 - val_acc: 0.7665\n",
      "Epoch 37/40\n",
      "1s - loss: 0.2267 - acc: 0.9358 - val_loss: 1.8945 - val_acc: 0.7645\n",
      "Epoch 38/40\n",
      "1s - loss: 0.2232 - acc: 0.9431 - val_loss: 1.8208 - val_acc: 0.7745\n",
      "Epoch 39/40\n",
      "1s - loss: 0.2088 - acc: 0.9438 - val_loss: 1.8460 - val_acc: 0.7906\n",
      "Epoch 40/40\n",
      "1s - loss: 0.1980 - acc: 0.9498 - val_loss: 1.8495 - val_acc: 0.7836\n"
     ]
    }
   ],
   "source": [
    "print(\"Training...\")\n",
    "history = model.fit(X_train,\\\n",
    "          y_train,\\\n",
    "          nb_epoch=40,\\\n",
    "          batch_size=64,\\\n",
    "          validation_split=0.3,\\\n",
    "          verbose=2)"
   ]
  },
  {
   "cell_type": "code",
   "execution_count": 37,
   "metadata": {},
   "outputs": [
    {
     "data": {
      "image/png": "[encoded data removed]",
      "text/plain": [
       "<matplotlib.figure.Figure at 0x1220bf780>"
      ]
     },
     "metadata": {},
     "output_type": "display_data"
    }
   ],
   "source": [
    "import seaborn as sns\n",
    "plt.figure(figsize=(12,12))\n",
    "plt.plot(history.history['loss'])\n",
    "plt.plot(history.history['val_loss'])\n",
    "plt.title('model mean squared error loss')\n",
    "plt.ylabel('mean squared error loss')\n",
    "plt.xlabel('epoch')\n",
    "plt.legend(['training set', 'validation set'], loc='upper right')\n",
    "plt.show()"
   ]
  },
  {
   "cell_type": "markdown",
   "metadata": {},
   "source": [
    "### Confusion Matrix"
   ]
  },
  {
   "cell_type": "code",
   "execution_count": 38,
   "metadata": {},
   "outputs": [
    {
     "name": "stdout",
     "output_type": "stream",
     "text": [
      "Log loss: 3.093580121143347\n",
      "Accuracy: 0.7676282051282052\n"
     ]
    },
    {
     "name": "stderr",
     "output_type": "stream",
     "text": [
      "/Users/dibakarsigdel/anaconda/envs/carnd-term1/lib/python3.5/site-packages/sklearn/utils/deprecation.py:70: DeprecationWarning: Function plot_confusion_matrix is deprecated; This will be removed in v0.4.0. Please use scikitplot.metrics.plot_confusion_matrix instead.\n",
      "  warnings.warn(msg, category=DeprecationWarning)\n"
     ]
    },
    {
     "data": {
      "text/plain": [
       "<matplotlib.axes._subplots.AxesSubplot at 0x1244d8eb8>"
      ]
     },
     "execution_count": 38,
     "metadata": {},
     "output_type": "execute_result"
    },
    {
     "data": {
      "image/png": "[encoded data removed]",
      "text/plain": [
       "<matplotlib.figure.Figure at 0x1244e72b0>"
      ]
     },
     "metadata": {},
     "output_type": "display_data"
    }
   ],
   "source": [
    "probas = model.predict(X_test)\n",
    "pred_indices = np.argmax(probas, axis=1)\n",
    "classes = np.unique(y_test)\n",
    "preds = classes[pred_indices]\n",
    "print('Log loss: {}'.format(log_loss(y_test, probas)))\n",
    "print('Accuracy: {}'.format(accuracy_score(y_test, preds)))\n",
    "skplt.plot_confusion_matrix(y_test, preds)"
   ]
  }
 ],
 "metadata": {
  "kernelspec": {
   "display_name": "Python 3",
   "language": "python",
   "name": "python3"
  },
  "language_info": {
   "codemirror_mode": {
    "name": "ipython",
    "version": 3
   },
   "file_extension": ".py",
   "mimetype": "text/x-python",
   "name": "python",
   "nbconvert_exporter": "python",
   "pygments_lexer": "ipython3",
   "version": "3.5.2"
  },
  "widgets": {
   "state": {},
   "version": "1.1.2"
  }
 },
 "nbformat": 4,
 "nbformat_minor": 2
}
